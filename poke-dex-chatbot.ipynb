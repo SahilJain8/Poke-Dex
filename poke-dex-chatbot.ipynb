{
 "cells": [
  {
   "cell_type": "code",
   "execution_count": 3,
   "id": "initial_id",
   "metadata": {
    "ExecuteTime": {
     "end_time": "2024-04-10T07:01:44.297022Z",
     "start_time": "2024-04-10T07:01:44.283515Z"
    }
   },
   "outputs": [],
   "source": [
    "import  json\n",
    "import os"
   ]
  },
  {
   "cell_type": "code",
   "execution_count": 4,
   "id": "ba4ae0e3ead13d18",
   "metadata": {
    "collapsed": false,
    "ExecuteTime": {
     "end_time": "2024-04-10T07:01:44.328109Z",
     "start_time": "2024-04-10T07:01:44.306880Z"
    }
   },
   "outputs": [],
   "source": [
    "with open('pokemon_data/archive/pokemonDB_dataset.json') as config_file:\n",
    "    pokedex_db = json.load(config_file)"
   ]
  },
  {
   "cell_type": "code",
   "execution_count": 5,
   "id": "3a3581a610f6b657",
   "metadata": {
    "collapsed": false,
    "ExecuteTime": {
     "end_time": "2024-04-10T07:01:44.343986Z",
     "start_time": "2024-04-10T07:01:44.340026Z"
    }
   },
   "outputs": [],
   "source": [
    "pokedex_image_class = os.listdir(\"pokemon_data/archive (1)/PokemonData\")"
   ]
  },
  {
   "cell_type": "code",
   "execution_count": 6,
   "id": "a1ea59497f91f4e0",
   "metadata": {
    "collapsed": false,
    "ExecuteTime": {
     "end_time": "2024-04-10T07:01:44.359357Z",
     "start_time": "2024-04-10T07:01:44.351791Z"
    }
   },
   "outputs": [
    {
     "data": {
      "text/plain": "150"
     },
     "execution_count": 6,
     "metadata": {},
     "output_type": "execute_result"
    }
   ],
   "source": [
    "len(pokedex_image_class)"
   ]
  },
  {
   "cell_type": "code",
   "execution_count": 7,
   "id": "fb6323c22b0894a1",
   "metadata": {
    "collapsed": false,
    "ExecuteTime": {
     "end_time": "2024-04-10T07:01:44.375468Z",
     "start_time": "2024-04-10T07:01:44.361930Z"
    }
   },
   "outputs": [
    {
     "data": {
      "text/plain": "1215"
     },
     "execution_count": 7,
     "metadata": {},
     "output_type": "execute_result"
    }
   ],
   "source": [
    "len(pokedex_db)"
   ]
  },
  {
   "cell_type": "code",
   "execution_count": 8,
   "id": "9dfbb535f1dc83fd",
   "metadata": {
    "collapsed": false,
    "ExecuteTime": {
     "end_time": "2024-04-10T07:01:44.391497Z",
     "start_time": "2024-04-10T07:01:44.375468Z"
    }
   },
   "outputs": [
    {
     "name": "stdout",
     "output_type": "stream",
     "text": [
      "'Farfetchd'\n",
      "'MrMime'\n"
     ]
    }
   ],
   "source": [
    "pokedex_db_clean = {}\n",
    "for pokemon in pokedex_image_class:\n",
    "    try:\n",
    "        pokedex_db_clean[pokemon] = pokedex_db[pokemon]\n",
    "    except Exception as e:\n",
    "        print(str(e))"
   ]
  },
  {
   "cell_type": "code",
   "execution_count": 9,
   "id": "346921a718ae0b05",
   "metadata": {
    "collapsed": false,
    "ExecuteTime": {
     "end_time": "2024-04-10T07:01:44.407207Z",
     "start_time": "2024-04-10T07:01:44.392999Z"
    }
   },
   "outputs": [
    {
     "data": {
      "text/plain": "{'Type': 'Psychic',\n 'Species': 'Psi Pokémon',\n 'Height': '0.9 m (2′11″)',\n 'Weight': '19.5 kg (43.0 lbs)',\n 'Abilities': '1. Synchronize, 2. Inner Focus, Magic Guard (hidden ability)',\n 'EV Yield': '1 Sp. Atk',\n 'Catch Rate': '200 (26.1% with PokéBall, full HP)',\n 'Base Friendship': '50 (normal)',\n 'Base Exp': '62',\n 'Growth Rate': 'Medium Slow',\n 'Egg Groups': 'Human-Like',\n 'Gender': '75% male, 25% female',\n 'Egg Cycles': '20 (4,884–5,140 steps)',\n 'HP Base': '25',\n 'HP Min': '160',\n 'HP Max': '254',\n 'Attack Base': '20',\n 'Attack Min': '40',\n 'Attack Max': '152',\n 'Defense Base': '15',\n 'Defense Min': '31',\n 'Defense Max': '141',\n 'Special Attack Base': '105',\n 'Special Attack Min': '193',\n 'Special Attack Max': '339',\n 'Special Defense Base': '55',\n 'Special Defense Min': '103',\n 'Special Defense Max': '229',\n 'Speed Base': '90',\n 'Speed Min': '166',\n 'Speed Max': '306'}"
     },
     "execution_count": 9,
     "metadata": {},
     "output_type": "execute_result"
    }
   ],
   "source": [
    "pokedex_db_clean['Abra']"
   ]
  },
  {
   "cell_type": "code",
   "execution_count": 10,
   "id": "6479e3b225caf6f9",
   "metadata": {
    "collapsed": false,
    "ExecuteTime": {
     "end_time": "2024-04-10T07:01:44.811144Z",
     "start_time": "2024-04-10T07:01:44.408391Z"
    }
   },
   "outputs": [],
   "source": [
    "import pandas as pd\n",
    "dfs = []\n",
    "for pokemon, data in pokedex_db_clean.items():\n",
    "    df = pd.DataFrame.from_dict({pokemon: data}, orient='index')\n",
    "    dfs.append(df)\n",
    "\n",
    "combined_df = pd.concat(dfs)"
   ]
  },
  {
   "cell_type": "code",
   "execution_count": 11,
   "id": "b836e2acfbe89560",
   "metadata": {
    "collapsed": false,
    "ExecuteTime": {
     "end_time": "2024-04-10T07:01:44.826543Z",
     "start_time": "2024-04-10T07:01:44.812646Z"
    }
   },
   "outputs": [
    {
     "data": {
      "text/plain": "                              Type             Species          Height  \\\nAbra                       Psychic         Psi Pokémon   0.9 m (2′11″)   \nAerodactyl            Rock, Flying      Fossil Pokémon   1.8 m (5′11″)   \nAlakazam                   Psychic         Psi Pokémon   1.5 m (4′11″)   \nAlolan Sandslash        Ice, Steel       Mouse Pokémon   1.2 m (3′11″)   \nArbok                       Poison       Cobra Pokémon  3.5 m (11′06″)   \n...                            ...                 ...             ...   \nWeepinbell           Grass, Poison  Flycatcher Pokémon   1.0 m (3′03″)   \nWeezing                     Poison  Poison Gas Pokémon   1.2 m (3′11″)   \nWigglytuff           Normal, Fairy     Balloon Pokémon   1.0 m (3′03″)   \nZapdos            Electric, Flying    Electric Pokémon   1.6 m (5′03″)   \nZubat               Poison, Flying         Bat Pokémon   0.8 m (2′07″)   \n\n                               Weight  \\\nAbra               19.5 kg (43.0 lbs)   \nAerodactyl        59.0 kg (130.1 lbs)   \nAlakazam          48.0 kg (105.8 lbs)   \nAlolan Sandslash  55.0 kg (121.3 lbs)   \nArbok             65.0 kg (143.3 lbs)   \n...                               ...   \nWeepinbell          6.4 kg (14.1 lbs)   \nWeezing             9.5 kg (20.9 lbs)   \nWigglytuff         12.0 kg (26.5 lbs)   \nZapdos            52.6 kg (116.0 lbs)   \nZubat               7.5 kg (16.5 lbs)   \n\n                                                          Abilities  \\\nAbra              1. Synchronize, 2. Inner Focus, Magic Guard (h...   \nAerodactyl        1. Rock Head, 2. Pressure, Unnerve (hidden abi...   \nAlakazam          1. Synchronize, 2. Inner Focus, Magic Guard (h...   \nAlolan Sandslash         1. Snow Cloak, Slush Rush (hidden ability)   \nArbok             1. Intimidate, 2. Shed Skin, Unnerve (hidden a...   \n...                                                             ...   \nWeepinbell                1. Chlorophyll, Gluttony (hidden ability)   \nWeezing           1. Levitate, 2. Neutralizing Gas, Stench (hidd...   \nWigglytuff        1. Cute Charm, 2. Competitive, Frisk (hidden a...   \nZapdos                         1. Pressure, Static (hidden ability)   \nZubat                  1. Inner Focus, Infiltrator (hidden ability)   \n\n                   EV Yield                          Catch Rate  \\\nAbra              1 Sp. Atk  200 (26.1% with PokéBall, full HP)   \nAerodactyl          2 Speed    45 (5.9% with PokéBall, full HP)   \nAlakazam          3 Sp. Atk    50 (6.5% with PokéBall, full HP)   \nAlolan Sandslash  2 Defense   90 (11.8% with PokéBall, full HP)   \nArbok              2 Attack   90 (11.8% with PokéBall, full HP)   \n...                     ...                                 ...   \nWeepinbell         2 Attack  120 (15.7% with PokéBall, full HP)   \nWeezing           2 Defense    60 (7.8% with PokéBall, full HP)   \nWigglytuff             3 HP    50 (6.5% with PokéBall, full HP)   \nZapdos            3 Sp. Atk     3 (0.4% with PokéBall, full HP)   \nZubat               1 Speed  255 (33.3% with PokéBall, full HP)   \n\n                         Base Friendship Base Exp  Growth Rate  ...  \\\nAbra                         50 (normal)       62  Medium Slow  ...   \nAerodactyl                   50 (normal)      180         Slow  ...   \nAlakazam                     50 (normal)      225  Medium Slow  ...   \nAlolan Sandslash             50 (normal)      158  Medium Fast  ...   \nArbok                        50 (normal)      157  Medium Fast  ...   \n...                                  ...      ...          ...  ...   \nWeepinbell                   50 (normal)      137  Medium Slow  ...   \nWeezing                      50 (normal)      172  Medium Fast  ...   \nWigglytuff                   50 (normal)      218         Fast  ...   \nZapdos            35 (lower than normal)      290         Slow  ...   \nZubat                        50 (normal)       49  Medium Fast  ...   \n\n                 Defense Max Special Attack Base Special Attack Min  \\\nAbra                     141                 105                193   \nAerodactyl               251                  60                112   \nAlakazam                 207                 135                247   \nAlolan Sandslash         372                  25                 49   \nArbok                    260                  65                121   \n...                      ...                 ...                ...   \nWeepinbell               218                  85                157   \nWeezing                  372                  85                157   \nWigglytuff               207                  85                157   \nZapdos                   295                 125                229   \nZubat                    185                  30                 58   \n\n                 Special Attack Max Special Defense Base Special Defense Min  \\\nAbra                            339                   55                 103   \nAerodactyl                      240                   75                 139   \nAlakazam                        405                   95                 175   \nAlolan Sandslash                163                   65                 121   \nArbok                           251                   79                 146   \n...                             ...                  ...                 ...   \nWeepinbell                      295                   45                  85   \nWeezing                         295                   70                 130   \nWigglytuff                      295                   50                  94   \nZapdos                          383                   90                 166   \nZubat                           174                   40                  76   \n\n                 Special Defense Max Speed Base Speed Min Speed Max  \nAbra                             229         90       166       306  \nAerodactyl                       273        130       238       394  \nAlakazam                         317        120       220       372  \nAlolan Sandslash                 251         65       121       251  \nArbok                            282         80       148       284  \n...                              ...        ...       ...       ...  \nWeepinbell                       207         55       103       229  \nWeezing                          262         60       112       240  \nWigglytuff                       218         45        85       207  \nZapdos                           306        100       184       328  \nZubat                            196         55       103       229  \n\n[148 rows x 31 columns]",
      "text/html": "<div>\n<style scoped>\n    .dataframe tbody tr th:only-of-type {\n        vertical-align: middle;\n    }\n\n    .dataframe tbody tr th {\n        vertical-align: top;\n    }\n\n    .dataframe thead th {\n        text-align: right;\n    }\n</style>\n<table border=\"1\" class=\"dataframe\">\n  <thead>\n    <tr style=\"text-align: right;\">\n      <th></th>\n      <th>Type</th>\n      <th>Species</th>\n      <th>Height</th>\n      <th>Weight</th>\n      <th>Abilities</th>\n      <th>EV Yield</th>\n      <th>Catch Rate</th>\n      <th>Base Friendship</th>\n      <th>Base Exp</th>\n      <th>Growth Rate</th>\n      <th>...</th>\n      <th>Defense Max</th>\n      <th>Special Attack Base</th>\n      <th>Special Attack Min</th>\n      <th>Special Attack Max</th>\n      <th>Special Defense Base</th>\n      <th>Special Defense Min</th>\n      <th>Special Defense Max</th>\n      <th>Speed Base</th>\n      <th>Speed Min</th>\n      <th>Speed Max</th>\n    </tr>\n  </thead>\n  <tbody>\n    <tr>\n      <th>Abra</th>\n      <td>Psychic</td>\n      <td>Psi Pokémon</td>\n      <td>0.9 m (2′11″)</td>\n      <td>19.5 kg (43.0 lbs)</td>\n      <td>1. Synchronize, 2. Inner Focus, Magic Guard (h...</td>\n      <td>1 Sp. Atk</td>\n      <td>200 (26.1% with PokéBall, full HP)</td>\n      <td>50 (normal)</td>\n      <td>62</td>\n      <td>Medium Slow</td>\n      <td>...</td>\n      <td>141</td>\n      <td>105</td>\n      <td>193</td>\n      <td>339</td>\n      <td>55</td>\n      <td>103</td>\n      <td>229</td>\n      <td>90</td>\n      <td>166</td>\n      <td>306</td>\n    </tr>\n    <tr>\n      <th>Aerodactyl</th>\n      <td>Rock, Flying</td>\n      <td>Fossil Pokémon</td>\n      <td>1.8 m (5′11″)</td>\n      <td>59.0 kg (130.1 lbs)</td>\n      <td>1. Rock Head, 2. Pressure, Unnerve (hidden abi...</td>\n      <td>2 Speed</td>\n      <td>45 (5.9% with PokéBall, full HP)</td>\n      <td>50 (normal)</td>\n      <td>180</td>\n      <td>Slow</td>\n      <td>...</td>\n      <td>251</td>\n      <td>60</td>\n      <td>112</td>\n      <td>240</td>\n      <td>75</td>\n      <td>139</td>\n      <td>273</td>\n      <td>130</td>\n      <td>238</td>\n      <td>394</td>\n    </tr>\n    <tr>\n      <th>Alakazam</th>\n      <td>Psychic</td>\n      <td>Psi Pokémon</td>\n      <td>1.5 m (4′11″)</td>\n      <td>48.0 kg (105.8 lbs)</td>\n      <td>1. Synchronize, 2. Inner Focus, Magic Guard (h...</td>\n      <td>3 Sp. Atk</td>\n      <td>50 (6.5% with PokéBall, full HP)</td>\n      <td>50 (normal)</td>\n      <td>225</td>\n      <td>Medium Slow</td>\n      <td>...</td>\n      <td>207</td>\n      <td>135</td>\n      <td>247</td>\n      <td>405</td>\n      <td>95</td>\n      <td>175</td>\n      <td>317</td>\n      <td>120</td>\n      <td>220</td>\n      <td>372</td>\n    </tr>\n    <tr>\n      <th>Alolan Sandslash</th>\n      <td>Ice, Steel</td>\n      <td>Mouse Pokémon</td>\n      <td>1.2 m (3′11″)</td>\n      <td>55.0 kg (121.3 lbs)</td>\n      <td>1. Snow Cloak, Slush Rush (hidden ability)</td>\n      <td>2 Defense</td>\n      <td>90 (11.8% with PokéBall, full HP)</td>\n      <td>50 (normal)</td>\n      <td>158</td>\n      <td>Medium Fast</td>\n      <td>...</td>\n      <td>372</td>\n      <td>25</td>\n      <td>49</td>\n      <td>163</td>\n      <td>65</td>\n      <td>121</td>\n      <td>251</td>\n      <td>65</td>\n      <td>121</td>\n      <td>251</td>\n    </tr>\n    <tr>\n      <th>Arbok</th>\n      <td>Poison</td>\n      <td>Cobra Pokémon</td>\n      <td>3.5 m (11′06″)</td>\n      <td>65.0 kg (143.3 lbs)</td>\n      <td>1. Intimidate, 2. Shed Skin, Unnerve (hidden a...</td>\n      <td>2 Attack</td>\n      <td>90 (11.8% with PokéBall, full HP)</td>\n      <td>50 (normal)</td>\n      <td>157</td>\n      <td>Medium Fast</td>\n      <td>...</td>\n      <td>260</td>\n      <td>65</td>\n      <td>121</td>\n      <td>251</td>\n      <td>79</td>\n      <td>146</td>\n      <td>282</td>\n      <td>80</td>\n      <td>148</td>\n      <td>284</td>\n    </tr>\n    <tr>\n      <th>...</th>\n      <td>...</td>\n      <td>...</td>\n      <td>...</td>\n      <td>...</td>\n      <td>...</td>\n      <td>...</td>\n      <td>...</td>\n      <td>...</td>\n      <td>...</td>\n      <td>...</td>\n      <td>...</td>\n      <td>...</td>\n      <td>...</td>\n      <td>...</td>\n      <td>...</td>\n      <td>...</td>\n      <td>...</td>\n      <td>...</td>\n      <td>...</td>\n      <td>...</td>\n      <td>...</td>\n    </tr>\n    <tr>\n      <th>Weepinbell</th>\n      <td>Grass, Poison</td>\n      <td>Flycatcher Pokémon</td>\n      <td>1.0 m (3′03″)</td>\n      <td>6.4 kg (14.1 lbs)</td>\n      <td>1. Chlorophyll, Gluttony (hidden ability)</td>\n      <td>2 Attack</td>\n      <td>120 (15.7% with PokéBall, full HP)</td>\n      <td>50 (normal)</td>\n      <td>137</td>\n      <td>Medium Slow</td>\n      <td>...</td>\n      <td>218</td>\n      <td>85</td>\n      <td>157</td>\n      <td>295</td>\n      <td>45</td>\n      <td>85</td>\n      <td>207</td>\n      <td>55</td>\n      <td>103</td>\n      <td>229</td>\n    </tr>\n    <tr>\n      <th>Weezing</th>\n      <td>Poison</td>\n      <td>Poison Gas Pokémon</td>\n      <td>1.2 m (3′11″)</td>\n      <td>9.5 kg (20.9 lbs)</td>\n      <td>1. Levitate, 2. Neutralizing Gas, Stench (hidd...</td>\n      <td>2 Defense</td>\n      <td>60 (7.8% with PokéBall, full HP)</td>\n      <td>50 (normal)</td>\n      <td>172</td>\n      <td>Medium Fast</td>\n      <td>...</td>\n      <td>372</td>\n      <td>85</td>\n      <td>157</td>\n      <td>295</td>\n      <td>70</td>\n      <td>130</td>\n      <td>262</td>\n      <td>60</td>\n      <td>112</td>\n      <td>240</td>\n    </tr>\n    <tr>\n      <th>Wigglytuff</th>\n      <td>Normal, Fairy</td>\n      <td>Balloon Pokémon</td>\n      <td>1.0 m (3′03″)</td>\n      <td>12.0 kg (26.5 lbs)</td>\n      <td>1. Cute Charm, 2. Competitive, Frisk (hidden a...</td>\n      <td>3 HP</td>\n      <td>50 (6.5% with PokéBall, full HP)</td>\n      <td>50 (normal)</td>\n      <td>218</td>\n      <td>Fast</td>\n      <td>...</td>\n      <td>207</td>\n      <td>85</td>\n      <td>157</td>\n      <td>295</td>\n      <td>50</td>\n      <td>94</td>\n      <td>218</td>\n      <td>45</td>\n      <td>85</td>\n      <td>207</td>\n    </tr>\n    <tr>\n      <th>Zapdos</th>\n      <td>Electric, Flying</td>\n      <td>Electric Pokémon</td>\n      <td>1.6 m (5′03″)</td>\n      <td>52.6 kg (116.0 lbs)</td>\n      <td>1. Pressure, Static (hidden ability)</td>\n      <td>3 Sp. Atk</td>\n      <td>3 (0.4% with PokéBall, full HP)</td>\n      <td>35 (lower than normal)</td>\n      <td>290</td>\n      <td>Slow</td>\n      <td>...</td>\n      <td>295</td>\n      <td>125</td>\n      <td>229</td>\n      <td>383</td>\n      <td>90</td>\n      <td>166</td>\n      <td>306</td>\n      <td>100</td>\n      <td>184</td>\n      <td>328</td>\n    </tr>\n    <tr>\n      <th>Zubat</th>\n      <td>Poison, Flying</td>\n      <td>Bat Pokémon</td>\n      <td>0.8 m (2′07″)</td>\n      <td>7.5 kg (16.5 lbs)</td>\n      <td>1. Inner Focus, Infiltrator (hidden ability)</td>\n      <td>1 Speed</td>\n      <td>255 (33.3% with PokéBall, full HP)</td>\n      <td>50 (normal)</td>\n      <td>49</td>\n      <td>Medium Fast</td>\n      <td>...</td>\n      <td>185</td>\n      <td>30</td>\n      <td>58</td>\n      <td>174</td>\n      <td>40</td>\n      <td>76</td>\n      <td>196</td>\n      <td>55</td>\n      <td>103</td>\n      <td>229</td>\n    </tr>\n  </tbody>\n</table>\n<p>148 rows × 31 columns</p>\n</div>"
     },
     "execution_count": 11,
     "metadata": {},
     "output_type": "execute_result"
    }
   ],
   "source": [
    "combined_df"
   ]
  },
  {
   "cell_type": "code",
   "execution_count": 12,
   "id": "593cbd2b64082e53",
   "metadata": {
    "collapsed": false,
    "ExecuteTime": {
     "end_time": "2024-04-10T07:01:44.842867Z",
     "start_time": "2024-04-10T07:01:44.827675Z"
    }
   },
   "outputs": [],
   "source": [
    "train_data = combined_df.copy()"
   ]
  },
  {
   "cell_type": "code",
   "execution_count": 13,
   "id": "f9311aebf465d77f",
   "metadata": {
    "collapsed": false,
    "ExecuteTime": {
     "end_time": "2024-04-10T07:01:44.858851Z",
     "start_time": "2024-04-10T07:01:44.843866Z"
    }
   },
   "outputs": [],
   "source": [
    "def clean_dataset(dataset: pd.DataFrame,column:str):\n",
    "    if column == \"Height\":\n",
    "        for i in range(len(dataset[column])):\n",
    "            height_str = dataset[column].iloc[i]\n",
    "            height_in_meters = height_str.split(\" \")[2]\n",
    "            dataset[column].iloc[i] = height_in_meters\n",
    "    \n",
    "        "
   ]
  },
  {
   "cell_type": "code",
   "execution_count": 14,
   "id": "6c0e6bd036e7096a",
   "metadata": {
    "collapsed": false,
    "ExecuteTime": {
     "end_time": "2024-04-10T07:01:44.873727Z",
     "start_time": "2024-04-10T07:01:44.859848Z"
    }
   },
   "outputs": [],
   "source": [
    "test = train_data.copy()"
   ]
  },
  {
   "cell_type": "code",
   "execution_count": 15,
   "id": "c6f0f560ab46150e",
   "metadata": {
    "collapsed": false,
    "ExecuteTime": {
     "end_time": "2024-04-10T07:01:44.889572Z",
     "start_time": "2024-04-10T07:01:44.874973Z"
    }
   },
   "outputs": [
    {
     "name": "stderr",
     "output_type": "stream",
     "text": [
      "C:\\Users\\jains\\AppData\\Local\\Temp\\ipykernel_9880\\575376931.py:6: FutureWarning: ChainedAssignmentError: behaviour will change in pandas 3.0!\n",
      "You are setting values through chained assignment. Currently this works in certain cases, but when using Copy-on-Write (which will become the default behaviour in pandas 3.0) this will never work to update the original DataFrame or Series, because the intermediate object on which we are setting values will behave as a copy.\n",
      "A typical example is when you are setting values in a column of a DataFrame, like:\n",
      "\n",
      "df[\"col\"][row_indexer] = value\n",
      "\n",
      "Use `df.loc[row_indexer, \"col\"] = values` instead, to perform the assignment in a single step and ensure this keeps updating the original `df`.\n",
      "\n",
      "See the caveats in the documentation: https://pandas.pydata.org/pandas-docs/stable/user_guide/indexing.html#returning-a-view-versus-a-copy\n",
      "\n",
      "  dataset[column].iloc[i] = height_in_meters\n"
     ]
    }
   ],
   "source": [
    "clean_dataset(test,\"Height\")"
   ]
  },
  {
   "cell_type": "code",
   "execution_count": 16,
   "id": "8c39b3af2b8f417a",
   "metadata": {
    "collapsed": false,
    "ExecuteTime": {
     "end_time": "2024-04-10T07:01:44.905025Z",
     "start_time": "2024-04-10T07:01:44.890569Z"
    }
   },
   "outputs": [
    {
     "data": {
      "text/plain": "                              Type             Species    Height  \\\nAbra                       Psychic         Psi Pokémon   (2′11″)   \nAerodactyl            Rock, Flying      Fossil Pokémon   (5′11″)   \nAlakazam                   Psychic         Psi Pokémon   (4′11″)   \nAlolan Sandslash        Ice, Steel       Mouse Pokémon   (3′11″)   \nArbok                       Poison       Cobra Pokémon  (11′06″)   \n...                            ...                 ...       ...   \nWeepinbell           Grass, Poison  Flycatcher Pokémon   (3′03″)   \nWeezing                     Poison  Poison Gas Pokémon   (3′11″)   \nWigglytuff           Normal, Fairy     Balloon Pokémon   (3′03″)   \nZapdos            Electric, Flying    Electric Pokémon   (5′03″)   \nZubat               Poison, Flying         Bat Pokémon   (2′07″)   \n\n                               Weight  \\\nAbra               19.5 kg (43.0 lbs)   \nAerodactyl        59.0 kg (130.1 lbs)   \nAlakazam          48.0 kg (105.8 lbs)   \nAlolan Sandslash  55.0 kg (121.3 lbs)   \nArbok             65.0 kg (143.3 lbs)   \n...                               ...   \nWeepinbell          6.4 kg (14.1 lbs)   \nWeezing             9.5 kg (20.9 lbs)   \nWigglytuff         12.0 kg (26.5 lbs)   \nZapdos            52.6 kg (116.0 lbs)   \nZubat               7.5 kg (16.5 lbs)   \n\n                                                          Abilities  \\\nAbra              1. Synchronize, 2. Inner Focus, Magic Guard (h...   \nAerodactyl        1. Rock Head, 2. Pressure, Unnerve (hidden abi...   \nAlakazam          1. Synchronize, 2. Inner Focus, Magic Guard (h...   \nAlolan Sandslash         1. Snow Cloak, Slush Rush (hidden ability)   \nArbok             1. Intimidate, 2. Shed Skin, Unnerve (hidden a...   \n...                                                             ...   \nWeepinbell                1. Chlorophyll, Gluttony (hidden ability)   \nWeezing           1. Levitate, 2. Neutralizing Gas, Stench (hidd...   \nWigglytuff        1. Cute Charm, 2. Competitive, Frisk (hidden a...   \nZapdos                         1. Pressure, Static (hidden ability)   \nZubat                  1. Inner Focus, Infiltrator (hidden ability)   \n\n                   EV Yield                          Catch Rate  \\\nAbra              1 Sp. Atk  200 (26.1% with PokéBall, full HP)   \nAerodactyl          2 Speed    45 (5.9% with PokéBall, full HP)   \nAlakazam          3 Sp. Atk    50 (6.5% with PokéBall, full HP)   \nAlolan Sandslash  2 Defense   90 (11.8% with PokéBall, full HP)   \nArbok              2 Attack   90 (11.8% with PokéBall, full HP)   \n...                     ...                                 ...   \nWeepinbell         2 Attack  120 (15.7% with PokéBall, full HP)   \nWeezing           2 Defense    60 (7.8% with PokéBall, full HP)   \nWigglytuff             3 HP    50 (6.5% with PokéBall, full HP)   \nZapdos            3 Sp. Atk     3 (0.4% with PokéBall, full HP)   \nZubat               1 Speed  255 (33.3% with PokéBall, full HP)   \n\n                         Base Friendship Base Exp  Growth Rate  ...  \\\nAbra                         50 (normal)       62  Medium Slow  ...   \nAerodactyl                   50 (normal)      180         Slow  ...   \nAlakazam                     50 (normal)      225  Medium Slow  ...   \nAlolan Sandslash             50 (normal)      158  Medium Fast  ...   \nArbok                        50 (normal)      157  Medium Fast  ...   \n...                                  ...      ...          ...  ...   \nWeepinbell                   50 (normal)      137  Medium Slow  ...   \nWeezing                      50 (normal)      172  Medium Fast  ...   \nWigglytuff                   50 (normal)      218         Fast  ...   \nZapdos            35 (lower than normal)      290         Slow  ...   \nZubat                        50 (normal)       49  Medium Fast  ...   \n\n                 Defense Max Special Attack Base Special Attack Min  \\\nAbra                     141                 105                193   \nAerodactyl               251                  60                112   \nAlakazam                 207                 135                247   \nAlolan Sandslash         372                  25                 49   \nArbok                    260                  65                121   \n...                      ...                 ...                ...   \nWeepinbell               218                  85                157   \nWeezing                  372                  85                157   \nWigglytuff               207                  85                157   \nZapdos                   295                 125                229   \nZubat                    185                  30                 58   \n\n                 Special Attack Max Special Defense Base Special Defense Min  \\\nAbra                            339                   55                 103   \nAerodactyl                      240                   75                 139   \nAlakazam                        405                   95                 175   \nAlolan Sandslash                163                   65                 121   \nArbok                           251                   79                 146   \n...                             ...                  ...                 ...   \nWeepinbell                      295                   45                  85   \nWeezing                         295                   70                 130   \nWigglytuff                      295                   50                  94   \nZapdos                          383                   90                 166   \nZubat                           174                   40                  76   \n\n                 Special Defense Max Speed Base Speed Min Speed Max  \nAbra                             229         90       166       306  \nAerodactyl                       273        130       238       394  \nAlakazam                         317        120       220       372  \nAlolan Sandslash                 251         65       121       251  \nArbok                            282         80       148       284  \n...                              ...        ...       ...       ...  \nWeepinbell                       207         55       103       229  \nWeezing                          262         60       112       240  \nWigglytuff                       218         45        85       207  \nZapdos                           306        100       184       328  \nZubat                            196         55       103       229  \n\n[148 rows x 31 columns]",
      "text/html": "<div>\n<style scoped>\n    .dataframe tbody tr th:only-of-type {\n        vertical-align: middle;\n    }\n\n    .dataframe tbody tr th {\n        vertical-align: top;\n    }\n\n    .dataframe thead th {\n        text-align: right;\n    }\n</style>\n<table border=\"1\" class=\"dataframe\">\n  <thead>\n    <tr style=\"text-align: right;\">\n      <th></th>\n      <th>Type</th>\n      <th>Species</th>\n      <th>Height</th>\n      <th>Weight</th>\n      <th>Abilities</th>\n      <th>EV Yield</th>\n      <th>Catch Rate</th>\n      <th>Base Friendship</th>\n      <th>Base Exp</th>\n      <th>Growth Rate</th>\n      <th>...</th>\n      <th>Defense Max</th>\n      <th>Special Attack Base</th>\n      <th>Special Attack Min</th>\n      <th>Special Attack Max</th>\n      <th>Special Defense Base</th>\n      <th>Special Defense Min</th>\n      <th>Special Defense Max</th>\n      <th>Speed Base</th>\n      <th>Speed Min</th>\n      <th>Speed Max</th>\n    </tr>\n  </thead>\n  <tbody>\n    <tr>\n      <th>Abra</th>\n      <td>Psychic</td>\n      <td>Psi Pokémon</td>\n      <td>(2′11″)</td>\n      <td>19.5 kg (43.0 lbs)</td>\n      <td>1. Synchronize, 2. Inner Focus, Magic Guard (h...</td>\n      <td>1 Sp. Atk</td>\n      <td>200 (26.1% with PokéBall, full HP)</td>\n      <td>50 (normal)</td>\n      <td>62</td>\n      <td>Medium Slow</td>\n      <td>...</td>\n      <td>141</td>\n      <td>105</td>\n      <td>193</td>\n      <td>339</td>\n      <td>55</td>\n      <td>103</td>\n      <td>229</td>\n      <td>90</td>\n      <td>166</td>\n      <td>306</td>\n    </tr>\n    <tr>\n      <th>Aerodactyl</th>\n      <td>Rock, Flying</td>\n      <td>Fossil Pokémon</td>\n      <td>(5′11″)</td>\n      <td>59.0 kg (130.1 lbs)</td>\n      <td>1. Rock Head, 2. Pressure, Unnerve (hidden abi...</td>\n      <td>2 Speed</td>\n      <td>45 (5.9% with PokéBall, full HP)</td>\n      <td>50 (normal)</td>\n      <td>180</td>\n      <td>Slow</td>\n      <td>...</td>\n      <td>251</td>\n      <td>60</td>\n      <td>112</td>\n      <td>240</td>\n      <td>75</td>\n      <td>139</td>\n      <td>273</td>\n      <td>130</td>\n      <td>238</td>\n      <td>394</td>\n    </tr>\n    <tr>\n      <th>Alakazam</th>\n      <td>Psychic</td>\n      <td>Psi Pokémon</td>\n      <td>(4′11″)</td>\n      <td>48.0 kg (105.8 lbs)</td>\n      <td>1. Synchronize, 2. Inner Focus, Magic Guard (h...</td>\n      <td>3 Sp. Atk</td>\n      <td>50 (6.5% with PokéBall, full HP)</td>\n      <td>50 (normal)</td>\n      <td>225</td>\n      <td>Medium Slow</td>\n      <td>...</td>\n      <td>207</td>\n      <td>135</td>\n      <td>247</td>\n      <td>405</td>\n      <td>95</td>\n      <td>175</td>\n      <td>317</td>\n      <td>120</td>\n      <td>220</td>\n      <td>372</td>\n    </tr>\n    <tr>\n      <th>Alolan Sandslash</th>\n      <td>Ice, Steel</td>\n      <td>Mouse Pokémon</td>\n      <td>(3′11″)</td>\n      <td>55.0 kg (121.3 lbs)</td>\n      <td>1. Snow Cloak, Slush Rush (hidden ability)</td>\n      <td>2 Defense</td>\n      <td>90 (11.8% with PokéBall, full HP)</td>\n      <td>50 (normal)</td>\n      <td>158</td>\n      <td>Medium Fast</td>\n      <td>...</td>\n      <td>372</td>\n      <td>25</td>\n      <td>49</td>\n      <td>163</td>\n      <td>65</td>\n      <td>121</td>\n      <td>251</td>\n      <td>65</td>\n      <td>121</td>\n      <td>251</td>\n    </tr>\n    <tr>\n      <th>Arbok</th>\n      <td>Poison</td>\n      <td>Cobra Pokémon</td>\n      <td>(11′06″)</td>\n      <td>65.0 kg (143.3 lbs)</td>\n      <td>1. Intimidate, 2. Shed Skin, Unnerve (hidden a...</td>\n      <td>2 Attack</td>\n      <td>90 (11.8% with PokéBall, full HP)</td>\n      <td>50 (normal)</td>\n      <td>157</td>\n      <td>Medium Fast</td>\n      <td>...</td>\n      <td>260</td>\n      <td>65</td>\n      <td>121</td>\n      <td>251</td>\n      <td>79</td>\n      <td>146</td>\n      <td>282</td>\n      <td>80</td>\n      <td>148</td>\n      <td>284</td>\n    </tr>\n    <tr>\n      <th>...</th>\n      <td>...</td>\n      <td>...</td>\n      <td>...</td>\n      <td>...</td>\n      <td>...</td>\n      <td>...</td>\n      <td>...</td>\n      <td>...</td>\n      <td>...</td>\n      <td>...</td>\n      <td>...</td>\n      <td>...</td>\n      <td>...</td>\n      <td>...</td>\n      <td>...</td>\n      <td>...</td>\n      <td>...</td>\n      <td>...</td>\n      <td>...</td>\n      <td>...</td>\n      <td>...</td>\n    </tr>\n    <tr>\n      <th>Weepinbell</th>\n      <td>Grass, Poison</td>\n      <td>Flycatcher Pokémon</td>\n      <td>(3′03″)</td>\n      <td>6.4 kg (14.1 lbs)</td>\n      <td>1. Chlorophyll, Gluttony (hidden ability)</td>\n      <td>2 Attack</td>\n      <td>120 (15.7% with PokéBall, full HP)</td>\n      <td>50 (normal)</td>\n      <td>137</td>\n      <td>Medium Slow</td>\n      <td>...</td>\n      <td>218</td>\n      <td>85</td>\n      <td>157</td>\n      <td>295</td>\n      <td>45</td>\n      <td>85</td>\n      <td>207</td>\n      <td>55</td>\n      <td>103</td>\n      <td>229</td>\n    </tr>\n    <tr>\n      <th>Weezing</th>\n      <td>Poison</td>\n      <td>Poison Gas Pokémon</td>\n      <td>(3′11″)</td>\n      <td>9.5 kg (20.9 lbs)</td>\n      <td>1. Levitate, 2. Neutralizing Gas, Stench (hidd...</td>\n      <td>2 Defense</td>\n      <td>60 (7.8% with PokéBall, full HP)</td>\n      <td>50 (normal)</td>\n      <td>172</td>\n      <td>Medium Fast</td>\n      <td>...</td>\n      <td>372</td>\n      <td>85</td>\n      <td>157</td>\n      <td>295</td>\n      <td>70</td>\n      <td>130</td>\n      <td>262</td>\n      <td>60</td>\n      <td>112</td>\n      <td>240</td>\n    </tr>\n    <tr>\n      <th>Wigglytuff</th>\n      <td>Normal, Fairy</td>\n      <td>Balloon Pokémon</td>\n      <td>(3′03″)</td>\n      <td>12.0 kg (26.5 lbs)</td>\n      <td>1. Cute Charm, 2. Competitive, Frisk (hidden a...</td>\n      <td>3 HP</td>\n      <td>50 (6.5% with PokéBall, full HP)</td>\n      <td>50 (normal)</td>\n      <td>218</td>\n      <td>Fast</td>\n      <td>...</td>\n      <td>207</td>\n      <td>85</td>\n      <td>157</td>\n      <td>295</td>\n      <td>50</td>\n      <td>94</td>\n      <td>218</td>\n      <td>45</td>\n      <td>85</td>\n      <td>207</td>\n    </tr>\n    <tr>\n      <th>Zapdos</th>\n      <td>Electric, Flying</td>\n      <td>Electric Pokémon</td>\n      <td>(5′03″)</td>\n      <td>52.6 kg (116.0 lbs)</td>\n      <td>1. Pressure, Static (hidden ability)</td>\n      <td>3 Sp. Atk</td>\n      <td>3 (0.4% with PokéBall, full HP)</td>\n      <td>35 (lower than normal)</td>\n      <td>290</td>\n      <td>Slow</td>\n      <td>...</td>\n      <td>295</td>\n      <td>125</td>\n      <td>229</td>\n      <td>383</td>\n      <td>90</td>\n      <td>166</td>\n      <td>306</td>\n      <td>100</td>\n      <td>184</td>\n      <td>328</td>\n    </tr>\n    <tr>\n      <th>Zubat</th>\n      <td>Poison, Flying</td>\n      <td>Bat Pokémon</td>\n      <td>(2′07″)</td>\n      <td>7.5 kg (16.5 lbs)</td>\n      <td>1. Inner Focus, Infiltrator (hidden ability)</td>\n      <td>1 Speed</td>\n      <td>255 (33.3% with PokéBall, full HP)</td>\n      <td>50 (normal)</td>\n      <td>49</td>\n      <td>Medium Fast</td>\n      <td>...</td>\n      <td>185</td>\n      <td>30</td>\n      <td>58</td>\n      <td>174</td>\n      <td>40</td>\n      <td>76</td>\n      <td>196</td>\n      <td>55</td>\n      <td>103</td>\n      <td>229</td>\n    </tr>\n  </tbody>\n</table>\n<p>148 rows × 31 columns</p>\n</div>"
     },
     "execution_count": 16,
     "metadata": {},
     "output_type": "execute_result"
    }
   ],
   "source": [
    "test"
   ]
  },
  {
   "cell_type": "code",
   "execution_count": 62,
   "id": "6158edcc3bc5c96d",
   "metadata": {
    "collapsed": false,
    "ExecuteTime": {
     "end_time": "2024-04-10T07:51:02.859965Z",
     "start_time": "2024-04-10T07:51:02.845021Z"
    }
   },
   "outputs": [],
   "source": [
    "# Function to split names\n",
    "def split_names(Type):\n",
    "    names = Type.split()\n",
    "    if len(names) == 1:\n",
    "        return names[0], None\n",
    "    else:\n",
    "        return names[0].replace(\",\",\" \"), ' '.join(names[1:])\n",
    "\n",
    "test[['Primary Type', 'Secondary Type']]= test['Type'].apply(split_names).apply(pd.Series)\n",
    "\n"
   ]
  },
  {
   "cell_type": "code",
   "execution_count": 63,
   "id": "b9c2a0b15f485a31",
   "metadata": {
    "collapsed": false,
    "ExecuteTime": {
     "end_time": "2024-04-10T07:51:03.388953Z",
     "start_time": "2024-04-10T07:51:03.363039Z"
    }
   },
   "outputs": [
    {
     "data": {
      "text/plain": "                              Type             Species    Height  \\\nAbra                       Psychic         Psi Pokémon   (2′11″)   \nAerodactyl            Rock, Flying      Fossil Pokémon   (5′11″)   \nAlakazam                   Psychic         Psi Pokémon   (4′11″)   \nAlolan Sandslash        Ice, Steel       Mouse Pokémon   (3′11″)   \nArbok                       Poison       Cobra Pokémon  (11′06″)   \n...                            ...                 ...       ...   \nWeepinbell           Grass, Poison  Flycatcher Pokémon   (3′03″)   \nWeezing                     Poison  Poison Gas Pokémon   (3′11″)   \nWigglytuff           Normal, Fairy     Balloon Pokémon   (3′03″)   \nZapdos            Electric, Flying    Electric Pokémon   (5′03″)   \nZubat               Poison, Flying         Bat Pokémon   (2′07″)   \n\n                               Weight  \\\nAbra               19.5 kg (43.0 lbs)   \nAerodactyl        59.0 kg (130.1 lbs)   \nAlakazam          48.0 kg (105.8 lbs)   \nAlolan Sandslash  55.0 kg (121.3 lbs)   \nArbok             65.0 kg (143.3 lbs)   \n...                               ...   \nWeepinbell          6.4 kg (14.1 lbs)   \nWeezing             9.5 kg (20.9 lbs)   \nWigglytuff         12.0 kg (26.5 lbs)   \nZapdos            52.6 kg (116.0 lbs)   \nZubat               7.5 kg (16.5 lbs)   \n\n                                                          Abilities  \\\nAbra              1. Synchronize, 2. Inner Focus, Magic Guard (h...   \nAerodactyl        1. Rock Head, 2. Pressure, Unnerve (hidden abi...   \nAlakazam          1. Synchronize, 2. Inner Focus, Magic Guard (h...   \nAlolan Sandslash         1. Snow Cloak, Slush Rush (hidden ability)   \nArbok             1. Intimidate, 2. Shed Skin, Unnerve (hidden a...   \n...                                                             ...   \nWeepinbell                1. Chlorophyll, Gluttony (hidden ability)   \nWeezing           1. Levitate, 2. Neutralizing Gas, Stench (hidd...   \nWigglytuff        1. Cute Charm, 2. Competitive, Frisk (hidden a...   \nZapdos                         1. Pressure, Static (hidden ability)   \nZubat                  1. Inner Focus, Infiltrator (hidden ability)   \n\n                   EV Yield                          Catch Rate  \\\nAbra              1 Sp. Atk  200 (26.1% with PokéBall, full HP)   \nAerodactyl          2 Speed    45 (5.9% with PokéBall, full HP)   \nAlakazam          3 Sp. Atk    50 (6.5% with PokéBall, full HP)   \nAlolan Sandslash  2 Defense   90 (11.8% with PokéBall, full HP)   \nArbok              2 Attack   90 (11.8% with PokéBall, full HP)   \n...                     ...                                 ...   \nWeepinbell         2 Attack  120 (15.7% with PokéBall, full HP)   \nWeezing           2 Defense    60 (7.8% with PokéBall, full HP)   \nWigglytuff             3 HP    50 (6.5% with PokéBall, full HP)   \nZapdos            3 Sp. Atk     3 (0.4% with PokéBall, full HP)   \nZubat               1 Speed  255 (33.3% with PokéBall, full HP)   \n\n                         Base Friendship Base Exp  Growth Rate  ... Speed Max  \\\nAbra                         50 (normal)       62  Medium Slow  ...       306   \nAerodactyl                   50 (normal)      180         Slow  ...       394   \nAlakazam                     50 (normal)      225  Medium Slow  ...       372   \nAlolan Sandslash             50 (normal)      158  Medium Fast  ...       251   \nArbok                        50 (normal)      157  Medium Fast  ...       284   \n...                                  ...      ...          ...  ...       ...   \nWeepinbell                   50 (normal)      137  Medium Slow  ...       229   \nWeezing                      50 (normal)      172  Medium Fast  ...       240   \nWigglytuff                   50 (normal)      218         Fast  ...       207   \nZapdos            35 (lower than normal)      290         Slow  ...       328   \nZubat                        50 (normal)       49  Medium Fast  ...       229   \n\n                 Primary Type Secondary Normal Friendship  \\\nAbra                  Psychic                        True   \nAerodactyl              Rock     Flying              True   \nAlakazam              Psychic                        True   \nAlolan Sandslash         Ice      Steel              True   \nArbok                  Poison                        True   \n...                       ...       ...               ...   \nWeepinbell             Grass     Poison              True   \nWeezing                Poison                        True   \nWigglytuff            Normal      Fairy              True   \nZapdos              Electric     Flying             False   \nZubat                 Poison     Flying              True   \n\n                 Higher than normal Friendship Lower than Normal Friendship  \\\nAbra                                     False                        False   \nAerodactyl                               False                        False   \nAlakazam                                 False                        False   \nAlolan Sandslash                         False                        False   \nArbok                                    False                        False   \n...                                        ...                          ...   \nWeepinbell                               False                        False   \nWeezing                                  False                        False   \nWigglytuff                               False                        False   \nZapdos                                   False                         True   \nZubat                                    False                        False   \n\n                 Primary Ability  Hidden Ability   Secondary Ability  \\\nAbra                 Synchronize   Magic Guard           Inner Focus   \nAerodactyl                  Rock       Unnerve              Pressure   \nAlakazam             Synchronize   Magic Guard           Inner Focus   \nAlolan Sandslash            Snow    Slush Rush                  None   \nArbok                 Intimidate       Unnerve             Shed Skin   \n...                          ...             ...                 ...   \nWeepinbell           Chlorophyll      Gluttony                  None   \nWeezing                 Levitate        Stench      Neutralizing Gas   \nWigglytuff                  Cute         Frisk           Competitive   \nZapdos                  Pressure        Static                  None   \nZubat                      Inner   Infiltrator                  None   \n\n                 Secondary Type  \nAbra                       None  \nAerodactyl               Flying  \nAlakazam                   None  \nAlolan Sandslash          Steel  \nArbok                      None  \n...                         ...  \nWeepinbell               Poison  \nWeezing                    None  \nWigglytuff                Fairy  \nZapdos                   Flying  \nZubat                    Flying  \n\n[148 rows x 40 columns]",
      "text/html": "<div>\n<style scoped>\n    .dataframe tbody tr th:only-of-type {\n        vertical-align: middle;\n    }\n\n    .dataframe tbody tr th {\n        vertical-align: top;\n    }\n\n    .dataframe thead th {\n        text-align: right;\n    }\n</style>\n<table border=\"1\" class=\"dataframe\">\n  <thead>\n    <tr style=\"text-align: right;\">\n      <th></th>\n      <th>Type</th>\n      <th>Species</th>\n      <th>Height</th>\n      <th>Weight</th>\n      <th>Abilities</th>\n      <th>EV Yield</th>\n      <th>Catch Rate</th>\n      <th>Base Friendship</th>\n      <th>Base Exp</th>\n      <th>Growth Rate</th>\n      <th>...</th>\n      <th>Speed Max</th>\n      <th>Primary Type</th>\n      <th>Secondary</th>\n      <th>Normal Friendship</th>\n      <th>Higher than normal Friendship</th>\n      <th>Lower than Normal Friendship</th>\n      <th>Primary Ability</th>\n      <th>Hidden Ability</th>\n      <th>Secondary Ability</th>\n      <th>Secondary Type</th>\n    </tr>\n  </thead>\n  <tbody>\n    <tr>\n      <th>Abra</th>\n      <td>Psychic</td>\n      <td>Psi Pokémon</td>\n      <td>(2′11″)</td>\n      <td>19.5 kg (43.0 lbs)</td>\n      <td>1. Synchronize, 2. Inner Focus, Magic Guard (h...</td>\n      <td>1 Sp. Atk</td>\n      <td>200 (26.1% with PokéBall, full HP)</td>\n      <td>50 (normal)</td>\n      <td>62</td>\n      <td>Medium Slow</td>\n      <td>...</td>\n      <td>306</td>\n      <td>Psychic</td>\n      <td></td>\n      <td>True</td>\n      <td>False</td>\n      <td>False</td>\n      <td>Synchronize</td>\n      <td>Magic Guard</td>\n      <td>Inner Focus</td>\n      <td>None</td>\n    </tr>\n    <tr>\n      <th>Aerodactyl</th>\n      <td>Rock, Flying</td>\n      <td>Fossil Pokémon</td>\n      <td>(5′11″)</td>\n      <td>59.0 kg (130.1 lbs)</td>\n      <td>1. Rock Head, 2. Pressure, Unnerve (hidden abi...</td>\n      <td>2 Speed</td>\n      <td>45 (5.9% with PokéBall, full HP)</td>\n      <td>50 (normal)</td>\n      <td>180</td>\n      <td>Slow</td>\n      <td>...</td>\n      <td>394</td>\n      <td>Rock</td>\n      <td>Flying</td>\n      <td>True</td>\n      <td>False</td>\n      <td>False</td>\n      <td>Rock</td>\n      <td>Unnerve</td>\n      <td>Pressure</td>\n      <td>Flying</td>\n    </tr>\n    <tr>\n      <th>Alakazam</th>\n      <td>Psychic</td>\n      <td>Psi Pokémon</td>\n      <td>(4′11″)</td>\n      <td>48.0 kg (105.8 lbs)</td>\n      <td>1. Synchronize, 2. Inner Focus, Magic Guard (h...</td>\n      <td>3 Sp. Atk</td>\n      <td>50 (6.5% with PokéBall, full HP)</td>\n      <td>50 (normal)</td>\n      <td>225</td>\n      <td>Medium Slow</td>\n      <td>...</td>\n      <td>372</td>\n      <td>Psychic</td>\n      <td></td>\n      <td>True</td>\n      <td>False</td>\n      <td>False</td>\n      <td>Synchronize</td>\n      <td>Magic Guard</td>\n      <td>Inner Focus</td>\n      <td>None</td>\n    </tr>\n    <tr>\n      <th>Alolan Sandslash</th>\n      <td>Ice, Steel</td>\n      <td>Mouse Pokémon</td>\n      <td>(3′11″)</td>\n      <td>55.0 kg (121.3 lbs)</td>\n      <td>1. Snow Cloak, Slush Rush (hidden ability)</td>\n      <td>2 Defense</td>\n      <td>90 (11.8% with PokéBall, full HP)</td>\n      <td>50 (normal)</td>\n      <td>158</td>\n      <td>Medium Fast</td>\n      <td>...</td>\n      <td>251</td>\n      <td>Ice</td>\n      <td>Steel</td>\n      <td>True</td>\n      <td>False</td>\n      <td>False</td>\n      <td>Snow</td>\n      <td>Slush Rush</td>\n      <td>None</td>\n      <td>Steel</td>\n    </tr>\n    <tr>\n      <th>Arbok</th>\n      <td>Poison</td>\n      <td>Cobra Pokémon</td>\n      <td>(11′06″)</td>\n      <td>65.0 kg (143.3 lbs)</td>\n      <td>1. Intimidate, 2. Shed Skin, Unnerve (hidden a...</td>\n      <td>2 Attack</td>\n      <td>90 (11.8% with PokéBall, full HP)</td>\n      <td>50 (normal)</td>\n      <td>157</td>\n      <td>Medium Fast</td>\n      <td>...</td>\n      <td>284</td>\n      <td>Poison</td>\n      <td></td>\n      <td>True</td>\n      <td>False</td>\n      <td>False</td>\n      <td>Intimidate</td>\n      <td>Unnerve</td>\n      <td>Shed Skin</td>\n      <td>None</td>\n    </tr>\n    <tr>\n      <th>...</th>\n      <td>...</td>\n      <td>...</td>\n      <td>...</td>\n      <td>...</td>\n      <td>...</td>\n      <td>...</td>\n      <td>...</td>\n      <td>...</td>\n      <td>...</td>\n      <td>...</td>\n      <td>...</td>\n      <td>...</td>\n      <td>...</td>\n      <td>...</td>\n      <td>...</td>\n      <td>...</td>\n      <td>...</td>\n      <td>...</td>\n      <td>...</td>\n      <td>...</td>\n      <td>...</td>\n    </tr>\n    <tr>\n      <th>Weepinbell</th>\n      <td>Grass, Poison</td>\n      <td>Flycatcher Pokémon</td>\n      <td>(3′03″)</td>\n      <td>6.4 kg (14.1 lbs)</td>\n      <td>1. Chlorophyll, Gluttony (hidden ability)</td>\n      <td>2 Attack</td>\n      <td>120 (15.7% with PokéBall, full HP)</td>\n      <td>50 (normal)</td>\n      <td>137</td>\n      <td>Medium Slow</td>\n      <td>...</td>\n      <td>229</td>\n      <td>Grass</td>\n      <td>Poison</td>\n      <td>True</td>\n      <td>False</td>\n      <td>False</td>\n      <td>Chlorophyll</td>\n      <td>Gluttony</td>\n      <td>None</td>\n      <td>Poison</td>\n    </tr>\n    <tr>\n      <th>Weezing</th>\n      <td>Poison</td>\n      <td>Poison Gas Pokémon</td>\n      <td>(3′11″)</td>\n      <td>9.5 kg (20.9 lbs)</td>\n      <td>1. Levitate, 2. Neutralizing Gas, Stench (hidd...</td>\n      <td>2 Defense</td>\n      <td>60 (7.8% with PokéBall, full HP)</td>\n      <td>50 (normal)</td>\n      <td>172</td>\n      <td>Medium Fast</td>\n      <td>...</td>\n      <td>240</td>\n      <td>Poison</td>\n      <td></td>\n      <td>True</td>\n      <td>False</td>\n      <td>False</td>\n      <td>Levitate</td>\n      <td>Stench</td>\n      <td>Neutralizing Gas</td>\n      <td>None</td>\n    </tr>\n    <tr>\n      <th>Wigglytuff</th>\n      <td>Normal, Fairy</td>\n      <td>Balloon Pokémon</td>\n      <td>(3′03″)</td>\n      <td>12.0 kg (26.5 lbs)</td>\n      <td>1. Cute Charm, 2. Competitive, Frisk (hidden a...</td>\n      <td>3 HP</td>\n      <td>50 (6.5% with PokéBall, full HP)</td>\n      <td>50 (normal)</td>\n      <td>218</td>\n      <td>Fast</td>\n      <td>...</td>\n      <td>207</td>\n      <td>Normal</td>\n      <td>Fairy</td>\n      <td>True</td>\n      <td>False</td>\n      <td>False</td>\n      <td>Cute</td>\n      <td>Frisk</td>\n      <td>Competitive</td>\n      <td>Fairy</td>\n    </tr>\n    <tr>\n      <th>Zapdos</th>\n      <td>Electric, Flying</td>\n      <td>Electric Pokémon</td>\n      <td>(5′03″)</td>\n      <td>52.6 kg (116.0 lbs)</td>\n      <td>1. Pressure, Static (hidden ability)</td>\n      <td>3 Sp. Atk</td>\n      <td>3 (0.4% with PokéBall, full HP)</td>\n      <td>35 (lower than normal)</td>\n      <td>290</td>\n      <td>Slow</td>\n      <td>...</td>\n      <td>328</td>\n      <td>Electric</td>\n      <td>Flying</td>\n      <td>False</td>\n      <td>False</td>\n      <td>True</td>\n      <td>Pressure</td>\n      <td>Static</td>\n      <td>None</td>\n      <td>Flying</td>\n    </tr>\n    <tr>\n      <th>Zubat</th>\n      <td>Poison, Flying</td>\n      <td>Bat Pokémon</td>\n      <td>(2′07″)</td>\n      <td>7.5 kg (16.5 lbs)</td>\n      <td>1. Inner Focus, Infiltrator (hidden ability)</td>\n      <td>1 Speed</td>\n      <td>255 (33.3% with PokéBall, full HP)</td>\n      <td>50 (normal)</td>\n      <td>49</td>\n      <td>Medium Fast</td>\n      <td>...</td>\n      <td>229</td>\n      <td>Poison</td>\n      <td>Flying</td>\n      <td>True</td>\n      <td>False</td>\n      <td>False</td>\n      <td>Inner</td>\n      <td>Infiltrator</td>\n      <td>None</td>\n      <td>Flying</td>\n    </tr>\n  </tbody>\n</table>\n<p>148 rows × 40 columns</p>\n</div>"
     },
     "execution_count": 63,
     "metadata": {},
     "output_type": "execute_result"
    }
   ],
   "source": [
    "test"
   ]
  },
  {
   "cell_type": "code",
   "execution_count": 19,
   "id": "3874bddb-11cc-45e0-b43a-c765c81bbc34",
   "metadata": {
    "ExecuteTime": {
     "end_time": "2024-04-10T07:01:44.952912Z",
     "start_time": "2024-04-10T07:01:44.938485Z"
    }
   },
   "outputs": [
    {
     "data": {
      "text/plain": "Index(['Type', 'Species', 'Height', 'Weight', 'Abilities', 'EV Yield',\n       'Catch Rate', 'Base Friendship', 'Base Exp', 'Growth Rate',\n       'Egg Groups', 'Gender', 'Egg Cycles', 'HP Base', 'HP Min', 'HP Max',\n       'Attack Base', 'Attack Min', 'Attack Max', 'Defense Base',\n       'Defense Min', 'Defense Max', 'Special Attack Base',\n       'Special Attack Min', 'Special Attack Max', 'Special Defense Base',\n       'Special Defense Min', 'Special Defense Max', 'Speed Base', 'Speed Min',\n       'Speed Max', 'Primary Type', 'Secondary'],\n      dtype='object')"
     },
     "execution_count": 19,
     "metadata": {},
     "output_type": "execute_result"
    }
   ],
   "source": [
    "test.columns"
   ]
  },
  {
   "cell_type": "code",
   "execution_count": 20,
   "id": "8c8c8176-9250-4063-9194-82d6c35123db",
   "metadata": {
    "ExecuteTime": {
     "end_time": "2024-04-10T07:01:44.968436Z",
     "start_time": "2024-04-10T07:01:44.953910Z"
    }
   },
   "outputs": [
    {
     "data": {
      "text/plain": "Base Friendship\n50 (normal)                 137\n35 (lower than normal)        6\n140 (higher than normal)      3\n100 (higher than normal)      1\n0 (lower than normal)         1\nName: count, dtype: int64"
     },
     "execution_count": 20,
     "metadata": {},
     "output_type": "execute_result"
    }
   ],
   "source": [
    "#Preprocessing Friendship stats\n",
    "\n",
    "test['Base Friendship'].value_counts()"
   ]
  },
  {
   "cell_type": "code",
   "execution_count": 21,
   "id": "e9e6fee1-9078-4003-b2ea-21af715d182d",
   "metadata": {
    "ExecuteTime": {
     "end_time": "2024-04-10T07:01:44.983726Z",
     "start_time": "2024-04-10T07:01:44.969706Z"
    }
   },
   "outputs": [],
   "source": [
    "test['Normal Friendship'] = test['Base Friendship'].apply(lambda x: True if x == '50 (normal)' else False)\n",
    "test['Higher than normal Friendship'] = test['Base Friendship'].apply(lambda x: True if x == '140 (higher than normal)' or x =='100 (higher than normal)' else False)\n",
    "test['Lower than Normal Friendship'] = test['Base Friendship'].apply(lambda x: True if x == '0 (lower than normal)' or x=='35 (lower than normal)'  else False)"
   ]
  },
  {
   "cell_type": "code",
   "execution_count": 22,
   "id": "b15c9c60-ba16-49d3-8f2b-bcab0009654d",
   "metadata": {
    "ExecuteTime": {
     "end_time": "2024-04-10T07:01:44.999182Z",
     "start_time": "2024-04-10T07:01:44.984945Z"
    }
   },
   "outputs": [
    {
     "data": {
      "text/plain": "Higher than normal Friendship\nFalse    144\nTrue       4\nName: count, dtype: int64"
     },
     "execution_count": 22,
     "metadata": {},
     "output_type": "execute_result"
    }
   ],
   "source": [
    "test['Higher than normal Friendship'].value_counts()"
   ]
  },
  {
   "cell_type": "code",
   "execution_count": 23,
   "id": "5f5cbf22-3585-41af-b92e-3f1ccbc6d5f0",
   "metadata": {
    "ExecuteTime": {
     "end_time": "2024-04-10T07:01:45.014880Z",
     "start_time": "2024-04-10T07:01:45.000226Z"
    }
   },
   "outputs": [
    {
     "data": {
      "text/plain": "Lower than Normal Friendship\nFalse    141\nTrue       7\nName: count, dtype: int64"
     },
     "execution_count": 23,
     "metadata": {},
     "output_type": "execute_result"
    }
   ],
   "source": [
    "test['Lower than Normal Friendship'].value_counts()"
   ]
  },
  {
   "cell_type": "code",
   "execution_count": 24,
   "id": "8d8d0418-e1a7-4b07-adc0-01792454f45a",
   "metadata": {
    "ExecuteTime": {
     "end_time": "2024-04-10T07:01:45.030198Z",
     "start_time": "2024-04-10T07:01:45.016376Z"
    }
   },
   "outputs": [
    {
     "data": {
      "text/plain": "Normal Friendship\nTrue     137\nFalse     11\nName: count, dtype: int64"
     },
     "execution_count": 24,
     "metadata": {},
     "output_type": "execute_result"
    }
   ],
   "source": [
    "test['Normal Friendship'].value_counts()"
   ]
  },
  {
   "cell_type": "code",
   "outputs": [
    {
     "data": {
      "text/plain": "                              Type             Species    Height  \\\nAbra                       Psychic         Psi Pokémon   (2′11″)   \nAerodactyl            Rock, Flying      Fossil Pokémon   (5′11″)   \nAlakazam                   Psychic         Psi Pokémon   (4′11″)   \nAlolan Sandslash        Ice, Steel       Mouse Pokémon   (3′11″)   \nArbok                       Poison       Cobra Pokémon  (11′06″)   \n...                            ...                 ...       ...   \nWeepinbell           Grass, Poison  Flycatcher Pokémon   (3′03″)   \nWeezing                     Poison  Poison Gas Pokémon   (3′11″)   \nWigglytuff           Normal, Fairy     Balloon Pokémon   (3′03″)   \nZapdos            Electric, Flying    Electric Pokémon   (5′03″)   \nZubat               Poison, Flying         Bat Pokémon   (2′07″)   \n\n                               Weight  \\\nAbra               19.5 kg (43.0 lbs)   \nAerodactyl        59.0 kg (130.1 lbs)   \nAlakazam          48.0 kg (105.8 lbs)   \nAlolan Sandslash  55.0 kg (121.3 lbs)   \nArbok             65.0 kg (143.3 lbs)   \n...                               ...   \nWeepinbell          6.4 kg (14.1 lbs)   \nWeezing             9.5 kg (20.9 lbs)   \nWigglytuff         12.0 kg (26.5 lbs)   \nZapdos            52.6 kg (116.0 lbs)   \nZubat               7.5 kg (16.5 lbs)   \n\n                                                          Abilities  \\\nAbra              1. Synchronize, 2. Inner Focus, Magic Guard (h...   \nAerodactyl        1. Rock Head, 2. Pressure, Unnerve (hidden abi...   \nAlakazam          1. Synchronize, 2. Inner Focus, Magic Guard (h...   \nAlolan Sandslash         1. Snow Cloak, Slush Rush (hidden ability)   \nArbok             1. Intimidate, 2. Shed Skin, Unnerve (hidden a...   \n...                                                             ...   \nWeepinbell                1. Chlorophyll, Gluttony (hidden ability)   \nWeezing           1. Levitate, 2. Neutralizing Gas, Stench (hidd...   \nWigglytuff        1. Cute Charm, 2. Competitive, Frisk (hidden a...   \nZapdos                         1. Pressure, Static (hidden ability)   \nZubat                  1. Inner Focus, Infiltrator (hidden ability)   \n\n                   EV Yield                          Catch Rate  \\\nAbra              1 Sp. Atk  200 (26.1% with PokéBall, full HP)   \nAerodactyl          2 Speed    45 (5.9% with PokéBall, full HP)   \nAlakazam          3 Sp. Atk    50 (6.5% with PokéBall, full HP)   \nAlolan Sandslash  2 Defense   90 (11.8% with PokéBall, full HP)   \nArbok              2 Attack   90 (11.8% with PokéBall, full HP)   \n...                     ...                                 ...   \nWeepinbell         2 Attack  120 (15.7% with PokéBall, full HP)   \nWeezing           2 Defense    60 (7.8% with PokéBall, full HP)   \nWigglytuff             3 HP    50 (6.5% with PokéBall, full HP)   \nZapdos            3 Sp. Atk     3 (0.4% with PokéBall, full HP)   \nZubat               1 Speed  255 (33.3% with PokéBall, full HP)   \n\n                         Base Friendship Base Exp  Growth Rate  ...  \\\nAbra                         50 (normal)       62  Medium Slow  ...   \nAerodactyl                   50 (normal)      180         Slow  ...   \nAlakazam                     50 (normal)      225  Medium Slow  ...   \nAlolan Sandslash             50 (normal)      158  Medium Fast  ...   \nArbok                        50 (normal)      157  Medium Fast  ...   \n...                                  ...      ...          ...  ...   \nWeepinbell                   50 (normal)      137  Medium Slow  ...   \nWeezing                      50 (normal)      172  Medium Fast  ...   \nWigglytuff                   50 (normal)      218         Fast  ...   \nZapdos            35 (lower than normal)      290         Slow  ...   \nZubat                        50 (normal)       49  Medium Fast  ...   \n\n                 Special Defense Min Special Defense Max Speed Base Speed Min  \\\nAbra                             103                 229         90       166   \nAerodactyl                       139                 273        130       238   \nAlakazam                         175                 317        120       220   \nAlolan Sandslash                 121                 251         65       121   \nArbok                            146                 282         80       148   \n...                              ...                 ...        ...       ...   \nWeepinbell                        85                 207         55       103   \nWeezing                          130                 262         60       112   \nWigglytuff                        94                 218         45        85   \nZapdos                           166                 306        100       184   \nZubat                             76                 196         55       103   \n\n                 Speed Max Primary Type Secondary Normal Friendship  \\\nAbra                   306      Psychic                        True   \nAerodactyl             394        Rock     Flying              True   \nAlakazam               372      Psychic                        True   \nAlolan Sandslash       251         Ice      Steel              True   \nArbok                  284       Poison                        True   \n...                    ...          ...       ...               ...   \nWeepinbell             229       Grass     Poison              True   \nWeezing                240       Poison                        True   \nWigglytuff             207      Normal      Fairy              True   \nZapdos                 328    Electric     Flying             False   \nZubat                  229      Poison     Flying              True   \n\n                 Higher than normal Friendship Lower than Normal Friendship  \nAbra                                     False                        False  \nAerodactyl                               False                        False  \nAlakazam                                 False                        False  \nAlolan Sandslash                         False                        False  \nArbok                                    False                        False  \n...                                        ...                          ...  \nWeepinbell                               False                        False  \nWeezing                                  False                        False  \nWigglytuff                               False                        False  \nZapdos                                   False                         True  \nZubat                                    False                        False  \n\n[148 rows x 36 columns]",
      "text/html": "<div>\n<style scoped>\n    .dataframe tbody tr th:only-of-type {\n        vertical-align: middle;\n    }\n\n    .dataframe tbody tr th {\n        vertical-align: top;\n    }\n\n    .dataframe thead th {\n        text-align: right;\n    }\n</style>\n<table border=\"1\" class=\"dataframe\">\n  <thead>\n    <tr style=\"text-align: right;\">\n      <th></th>\n      <th>Type</th>\n      <th>Species</th>\n      <th>Height</th>\n      <th>Weight</th>\n      <th>Abilities</th>\n      <th>EV Yield</th>\n      <th>Catch Rate</th>\n      <th>Base Friendship</th>\n      <th>Base Exp</th>\n      <th>Growth Rate</th>\n      <th>...</th>\n      <th>Special Defense Min</th>\n      <th>Special Defense Max</th>\n      <th>Speed Base</th>\n      <th>Speed Min</th>\n      <th>Speed Max</th>\n      <th>Primary Type</th>\n      <th>Secondary</th>\n      <th>Normal Friendship</th>\n      <th>Higher than normal Friendship</th>\n      <th>Lower than Normal Friendship</th>\n    </tr>\n  </thead>\n  <tbody>\n    <tr>\n      <th>Abra</th>\n      <td>Psychic</td>\n      <td>Psi Pokémon</td>\n      <td>(2′11″)</td>\n      <td>19.5 kg (43.0 lbs)</td>\n      <td>1. Synchronize, 2. Inner Focus, Magic Guard (h...</td>\n      <td>1 Sp. Atk</td>\n      <td>200 (26.1% with PokéBall, full HP)</td>\n      <td>50 (normal)</td>\n      <td>62</td>\n      <td>Medium Slow</td>\n      <td>...</td>\n      <td>103</td>\n      <td>229</td>\n      <td>90</td>\n      <td>166</td>\n      <td>306</td>\n      <td>Psychic</td>\n      <td></td>\n      <td>True</td>\n      <td>False</td>\n      <td>False</td>\n    </tr>\n    <tr>\n      <th>Aerodactyl</th>\n      <td>Rock, Flying</td>\n      <td>Fossil Pokémon</td>\n      <td>(5′11″)</td>\n      <td>59.0 kg (130.1 lbs)</td>\n      <td>1. Rock Head, 2. Pressure, Unnerve (hidden abi...</td>\n      <td>2 Speed</td>\n      <td>45 (5.9% with PokéBall, full HP)</td>\n      <td>50 (normal)</td>\n      <td>180</td>\n      <td>Slow</td>\n      <td>...</td>\n      <td>139</td>\n      <td>273</td>\n      <td>130</td>\n      <td>238</td>\n      <td>394</td>\n      <td>Rock</td>\n      <td>Flying</td>\n      <td>True</td>\n      <td>False</td>\n      <td>False</td>\n    </tr>\n    <tr>\n      <th>Alakazam</th>\n      <td>Psychic</td>\n      <td>Psi Pokémon</td>\n      <td>(4′11″)</td>\n      <td>48.0 kg (105.8 lbs)</td>\n      <td>1. Synchronize, 2. Inner Focus, Magic Guard (h...</td>\n      <td>3 Sp. Atk</td>\n      <td>50 (6.5% with PokéBall, full HP)</td>\n      <td>50 (normal)</td>\n      <td>225</td>\n      <td>Medium Slow</td>\n      <td>...</td>\n      <td>175</td>\n      <td>317</td>\n      <td>120</td>\n      <td>220</td>\n      <td>372</td>\n      <td>Psychic</td>\n      <td></td>\n      <td>True</td>\n      <td>False</td>\n      <td>False</td>\n    </tr>\n    <tr>\n      <th>Alolan Sandslash</th>\n      <td>Ice, Steel</td>\n      <td>Mouse Pokémon</td>\n      <td>(3′11″)</td>\n      <td>55.0 kg (121.3 lbs)</td>\n      <td>1. Snow Cloak, Slush Rush (hidden ability)</td>\n      <td>2 Defense</td>\n      <td>90 (11.8% with PokéBall, full HP)</td>\n      <td>50 (normal)</td>\n      <td>158</td>\n      <td>Medium Fast</td>\n      <td>...</td>\n      <td>121</td>\n      <td>251</td>\n      <td>65</td>\n      <td>121</td>\n      <td>251</td>\n      <td>Ice</td>\n      <td>Steel</td>\n      <td>True</td>\n      <td>False</td>\n      <td>False</td>\n    </tr>\n    <tr>\n      <th>Arbok</th>\n      <td>Poison</td>\n      <td>Cobra Pokémon</td>\n      <td>(11′06″)</td>\n      <td>65.0 kg (143.3 lbs)</td>\n      <td>1. Intimidate, 2. Shed Skin, Unnerve (hidden a...</td>\n      <td>2 Attack</td>\n      <td>90 (11.8% with PokéBall, full HP)</td>\n      <td>50 (normal)</td>\n      <td>157</td>\n      <td>Medium Fast</td>\n      <td>...</td>\n      <td>146</td>\n      <td>282</td>\n      <td>80</td>\n      <td>148</td>\n      <td>284</td>\n      <td>Poison</td>\n      <td></td>\n      <td>True</td>\n      <td>False</td>\n      <td>False</td>\n    </tr>\n    <tr>\n      <th>...</th>\n      <td>...</td>\n      <td>...</td>\n      <td>...</td>\n      <td>...</td>\n      <td>...</td>\n      <td>...</td>\n      <td>...</td>\n      <td>...</td>\n      <td>...</td>\n      <td>...</td>\n      <td>...</td>\n      <td>...</td>\n      <td>...</td>\n      <td>...</td>\n      <td>...</td>\n      <td>...</td>\n      <td>...</td>\n      <td>...</td>\n      <td>...</td>\n      <td>...</td>\n      <td>...</td>\n    </tr>\n    <tr>\n      <th>Weepinbell</th>\n      <td>Grass, Poison</td>\n      <td>Flycatcher Pokémon</td>\n      <td>(3′03″)</td>\n      <td>6.4 kg (14.1 lbs)</td>\n      <td>1. Chlorophyll, Gluttony (hidden ability)</td>\n      <td>2 Attack</td>\n      <td>120 (15.7% with PokéBall, full HP)</td>\n      <td>50 (normal)</td>\n      <td>137</td>\n      <td>Medium Slow</td>\n      <td>...</td>\n      <td>85</td>\n      <td>207</td>\n      <td>55</td>\n      <td>103</td>\n      <td>229</td>\n      <td>Grass</td>\n      <td>Poison</td>\n      <td>True</td>\n      <td>False</td>\n      <td>False</td>\n    </tr>\n    <tr>\n      <th>Weezing</th>\n      <td>Poison</td>\n      <td>Poison Gas Pokémon</td>\n      <td>(3′11″)</td>\n      <td>9.5 kg (20.9 lbs)</td>\n      <td>1. Levitate, 2. Neutralizing Gas, Stench (hidd...</td>\n      <td>2 Defense</td>\n      <td>60 (7.8% with PokéBall, full HP)</td>\n      <td>50 (normal)</td>\n      <td>172</td>\n      <td>Medium Fast</td>\n      <td>...</td>\n      <td>130</td>\n      <td>262</td>\n      <td>60</td>\n      <td>112</td>\n      <td>240</td>\n      <td>Poison</td>\n      <td></td>\n      <td>True</td>\n      <td>False</td>\n      <td>False</td>\n    </tr>\n    <tr>\n      <th>Wigglytuff</th>\n      <td>Normal, Fairy</td>\n      <td>Balloon Pokémon</td>\n      <td>(3′03″)</td>\n      <td>12.0 kg (26.5 lbs)</td>\n      <td>1. Cute Charm, 2. Competitive, Frisk (hidden a...</td>\n      <td>3 HP</td>\n      <td>50 (6.5% with PokéBall, full HP)</td>\n      <td>50 (normal)</td>\n      <td>218</td>\n      <td>Fast</td>\n      <td>...</td>\n      <td>94</td>\n      <td>218</td>\n      <td>45</td>\n      <td>85</td>\n      <td>207</td>\n      <td>Normal</td>\n      <td>Fairy</td>\n      <td>True</td>\n      <td>False</td>\n      <td>False</td>\n    </tr>\n    <tr>\n      <th>Zapdos</th>\n      <td>Electric, Flying</td>\n      <td>Electric Pokémon</td>\n      <td>(5′03″)</td>\n      <td>52.6 kg (116.0 lbs)</td>\n      <td>1. Pressure, Static (hidden ability)</td>\n      <td>3 Sp. Atk</td>\n      <td>3 (0.4% with PokéBall, full HP)</td>\n      <td>35 (lower than normal)</td>\n      <td>290</td>\n      <td>Slow</td>\n      <td>...</td>\n      <td>166</td>\n      <td>306</td>\n      <td>100</td>\n      <td>184</td>\n      <td>328</td>\n      <td>Electric</td>\n      <td>Flying</td>\n      <td>False</td>\n      <td>False</td>\n      <td>True</td>\n    </tr>\n    <tr>\n      <th>Zubat</th>\n      <td>Poison, Flying</td>\n      <td>Bat Pokémon</td>\n      <td>(2′07″)</td>\n      <td>7.5 kg (16.5 lbs)</td>\n      <td>1. Inner Focus, Infiltrator (hidden ability)</td>\n      <td>1 Speed</td>\n      <td>255 (33.3% with PokéBall, full HP)</td>\n      <td>50 (normal)</td>\n      <td>49</td>\n      <td>Medium Fast</td>\n      <td>...</td>\n      <td>76</td>\n      <td>196</td>\n      <td>55</td>\n      <td>103</td>\n      <td>229</td>\n      <td>Poison</td>\n      <td>Flying</td>\n      <td>True</td>\n      <td>False</td>\n      <td>False</td>\n    </tr>\n  </tbody>\n</table>\n<p>148 rows × 36 columns</p>\n</div>"
     },
     "execution_count": 27,
     "metadata": {},
     "output_type": "execute_result"
    }
   ],
   "source": [
    "test"
   ],
   "metadata": {
    "collapsed": false,
    "ExecuteTime": {
     "end_time": "2024-04-10T07:02:50.591032Z",
     "start_time": "2024-04-10T07:02:50.574128Z"
    }
   },
   "id": "d11eb2ccdf615693",
   "execution_count": 27
  },
  {
   "cell_type": "code",
   "execution_count": 26,
   "id": "ea264cc5-d3b4-4c79-a862-2185de7f1686",
   "metadata": {
    "ExecuteTime": {
     "end_time": "2024-04-10T07:02:23.955455Z",
     "start_time": "2024-04-10T07:02:23.942793Z"
    }
   },
   "outputs": [
    {
     "data": {
      "text/plain": "Abilities\n1. Synchronize, 2. Inner Focus, Magic Guard (hidden ability)    3\n1. Torrent, Rain Dish (hidden ability)                          3\n1. Guts, 2. No Guard, Steadfast (hidden ability)                3\n1. Rock Head, 2. Sturdy, Sand Veil (hidden ability)             3\n1. Blaze, Solar Power (hidden ability)                          3\n                                                               ..\n1. Pickup, 2. Technician, Unnerve (hidden ability)              1\n1. Synchronize                                                  1\n1. Pressure, Unnerve (hidden ability)                           1\n1. Pressure, Flame Body (hidden ability)                        1\n1. Pressure, Static (hidden ability)                            1\nName: count, Length: 93, dtype: int64"
     },
     "execution_count": 26,
     "metadata": {},
     "output_type": "execute_result"
    }
   ],
   "source": [
    "test['Abilities'].value_counts()"
   ]
  },
  {
   "cell_type": "code",
   "outputs": [],
   "source": [
    "def split_names_abilties(Type):\n",
    "    names = Type.split(',')\n",
    "    if len(names) == 1:\n",
    "        return_name = names[0].split(' ')[1]\n",
    "        return return_name, None,None\n",
    "    elif len(names) == 2:\n",
    "        if \"(hidden ability)\" in names[1]:\n",
    "            return names[0].replace(\",\",\" \").split(' ')[1], None,names[1].replace(\"(hidden ability)\", \" \")\n",
    "        else:\n",
    "         return names[0].replace(\",\",\" \").split(' ')[1],names[1],None\n",
    "\n",
    "    else:\n",
    "                return names[0].replace(\",\",\" \").split(' ')[1], names[1].replace(\"2. \",\" \"),names[2].replace(\"(hidden ability)\", \" \")\n",
    "\n",
    "        \n",
    "\n",
    "test[[\"Primary Ability\",\"Secondary Ability\",\"Hidden Ability\"]] = test[\"Abilities\"].apply(split_names_abilties).apply(pd.Series)"
   ],
   "metadata": {
    "collapsed": false,
    "ExecuteTime": {
     "end_time": "2024-04-10T07:47:23.898886Z",
     "start_time": "2024-04-10T07:47:23.873964Z"
    }
   },
   "id": "591a2595315af372",
   "execution_count": 60
  },
  {
   "cell_type": "code",
   "outputs": [
    {
     "data": {
      "text/plain": "                              Type             Species    Height  \\\nAbra                       Psychic         Psi Pokémon   (2′11″)   \nAerodactyl            Rock, Flying      Fossil Pokémon   (5′11″)   \nAlakazam                   Psychic         Psi Pokémon   (4′11″)   \nAlolan Sandslash        Ice, Steel       Mouse Pokémon   (3′11″)   \nArbok                       Poison       Cobra Pokémon  (11′06″)   \n...                            ...                 ...       ...   \nWeepinbell           Grass, Poison  Flycatcher Pokémon   (3′03″)   \nWeezing                     Poison  Poison Gas Pokémon   (3′11″)   \nWigglytuff           Normal, Fairy     Balloon Pokémon   (3′03″)   \nZapdos            Electric, Flying    Electric Pokémon   (5′03″)   \nZubat               Poison, Flying         Bat Pokémon   (2′07″)   \n\n                               Weight  \\\nAbra               19.5 kg (43.0 lbs)   \nAerodactyl        59.0 kg (130.1 lbs)   \nAlakazam          48.0 kg (105.8 lbs)   \nAlolan Sandslash  55.0 kg (121.3 lbs)   \nArbok             65.0 kg (143.3 lbs)   \n...                               ...   \nWeepinbell          6.4 kg (14.1 lbs)   \nWeezing             9.5 kg (20.9 lbs)   \nWigglytuff         12.0 kg (26.5 lbs)   \nZapdos            52.6 kg (116.0 lbs)   \nZubat               7.5 kg (16.5 lbs)   \n\n                                                          Abilities  \\\nAbra              1. Synchronize, 2. Inner Focus, Magic Guard (h...   \nAerodactyl        1. Rock Head, 2. Pressure, Unnerve (hidden abi...   \nAlakazam          1. Synchronize, 2. Inner Focus, Magic Guard (h...   \nAlolan Sandslash         1. Snow Cloak, Slush Rush (hidden ability)   \nArbok             1. Intimidate, 2. Shed Skin, Unnerve (hidden a...   \n...                                                             ...   \nWeepinbell                1. Chlorophyll, Gluttony (hidden ability)   \nWeezing           1. Levitate, 2. Neutralizing Gas, Stench (hidd...   \nWigglytuff        1. Cute Charm, 2. Competitive, Frisk (hidden a...   \nZapdos                         1. Pressure, Static (hidden ability)   \nZubat                  1. Inner Focus, Infiltrator (hidden ability)   \n\n                   EV Yield                          Catch Rate  \\\nAbra              1 Sp. Atk  200 (26.1% with PokéBall, full HP)   \nAerodactyl          2 Speed    45 (5.9% with PokéBall, full HP)   \nAlakazam          3 Sp. Atk    50 (6.5% with PokéBall, full HP)   \nAlolan Sandslash  2 Defense   90 (11.8% with PokéBall, full HP)   \nArbok              2 Attack   90 (11.8% with PokéBall, full HP)   \n...                     ...                                 ...   \nWeepinbell         2 Attack  120 (15.7% with PokéBall, full HP)   \nWeezing           2 Defense    60 (7.8% with PokéBall, full HP)   \nWigglytuff             3 HP    50 (6.5% with PokéBall, full HP)   \nZapdos            3 Sp. Atk     3 (0.4% with PokéBall, full HP)   \nZubat               1 Speed  255 (33.3% with PokéBall, full HP)   \n\n                         Base Friendship Base Exp  Growth Rate  ... Speed Min  \\\nAbra                         50 (normal)       62  Medium Slow  ...       166   \nAerodactyl                   50 (normal)      180         Slow  ...       238   \nAlakazam                     50 (normal)      225  Medium Slow  ...       220   \nAlolan Sandslash             50 (normal)      158  Medium Fast  ...       121   \nArbok                        50 (normal)      157  Medium Fast  ...       148   \n...                                  ...      ...          ...  ...       ...   \nWeepinbell                   50 (normal)      137  Medium Slow  ...       103   \nWeezing                      50 (normal)      172  Medium Fast  ...       112   \nWigglytuff                   50 (normal)      218         Fast  ...        85   \nZapdos            35 (lower than normal)      290         Slow  ...       184   \nZubat                        50 (normal)       49  Medium Fast  ...       103   \n\n                 Speed Max Primary Type Secondary Normal Friendship  \\\nAbra                   306      Psychic                        True   \nAerodactyl             394        Rock     Flying              True   \nAlakazam               372      Psychic                        True   \nAlolan Sandslash       251         Ice      Steel              True   \nArbok                  284       Poison                        True   \n...                    ...          ...       ...               ...   \nWeepinbell             229       Grass     Poison              True   \nWeezing                240       Poison                        True   \nWigglytuff             207      Normal      Fairy              True   \nZapdos                 328    Electric     Flying             False   \nZubat                  229      Poison     Flying              True   \n\n                 Higher than normal Friendship Lower than Normal Friendship  \\\nAbra                                     False                        False   \nAerodactyl                               False                        False   \nAlakazam                                 False                        False   \nAlolan Sandslash                         False                        False   \nArbok                                    False                        False   \n...                                        ...                          ...   \nWeepinbell                               False                        False   \nWeezing                                  False                        False   \nWigglytuff                               False                        False   \nZapdos                                   False                         True   \nZubat                                    False                        False   \n\n                 Primary Ability  Hidden Ability   Secondary Ability  \nAbra                 Synchronize   Magic Guard           Inner Focus  \nAerodactyl                  Rock       Unnerve              Pressure  \nAlakazam             Synchronize   Magic Guard           Inner Focus  \nAlolan Sandslash            Snow    Slush Rush                  None  \nArbok                 Intimidate       Unnerve             Shed Skin  \n...                          ...             ...                 ...  \nWeepinbell           Chlorophyll      Gluttony                  None  \nWeezing                 Levitate        Stench      Neutralizing Gas  \nWigglytuff                  Cute         Frisk           Competitive  \nZapdos                  Pressure        Static                  None  \nZubat                      Inner   Infiltrator                  None  \n\n[148 rows x 39 columns]",
      "text/html": "<div>\n<style scoped>\n    .dataframe tbody tr th:only-of-type {\n        vertical-align: middle;\n    }\n\n    .dataframe tbody tr th {\n        vertical-align: top;\n    }\n\n    .dataframe thead th {\n        text-align: right;\n    }\n</style>\n<table border=\"1\" class=\"dataframe\">\n  <thead>\n    <tr style=\"text-align: right;\">\n      <th></th>\n      <th>Type</th>\n      <th>Species</th>\n      <th>Height</th>\n      <th>Weight</th>\n      <th>Abilities</th>\n      <th>EV Yield</th>\n      <th>Catch Rate</th>\n      <th>Base Friendship</th>\n      <th>Base Exp</th>\n      <th>Growth Rate</th>\n      <th>...</th>\n      <th>Speed Min</th>\n      <th>Speed Max</th>\n      <th>Primary Type</th>\n      <th>Secondary</th>\n      <th>Normal Friendship</th>\n      <th>Higher than normal Friendship</th>\n      <th>Lower than Normal Friendship</th>\n      <th>Primary Ability</th>\n      <th>Hidden Ability</th>\n      <th>Secondary Ability</th>\n    </tr>\n  </thead>\n  <tbody>\n    <tr>\n      <th>Abra</th>\n      <td>Psychic</td>\n      <td>Psi Pokémon</td>\n      <td>(2′11″)</td>\n      <td>19.5 kg (43.0 lbs)</td>\n      <td>1. Synchronize, 2. Inner Focus, Magic Guard (h...</td>\n      <td>1 Sp. Atk</td>\n      <td>200 (26.1% with PokéBall, full HP)</td>\n      <td>50 (normal)</td>\n      <td>62</td>\n      <td>Medium Slow</td>\n      <td>...</td>\n      <td>166</td>\n      <td>306</td>\n      <td>Psychic</td>\n      <td></td>\n      <td>True</td>\n      <td>False</td>\n      <td>False</td>\n      <td>Synchronize</td>\n      <td>Magic Guard</td>\n      <td>Inner Focus</td>\n    </tr>\n    <tr>\n      <th>Aerodactyl</th>\n      <td>Rock, Flying</td>\n      <td>Fossil Pokémon</td>\n      <td>(5′11″)</td>\n      <td>59.0 kg (130.1 lbs)</td>\n      <td>1. Rock Head, 2. Pressure, Unnerve (hidden abi...</td>\n      <td>2 Speed</td>\n      <td>45 (5.9% with PokéBall, full HP)</td>\n      <td>50 (normal)</td>\n      <td>180</td>\n      <td>Slow</td>\n      <td>...</td>\n      <td>238</td>\n      <td>394</td>\n      <td>Rock</td>\n      <td>Flying</td>\n      <td>True</td>\n      <td>False</td>\n      <td>False</td>\n      <td>Rock</td>\n      <td>Unnerve</td>\n      <td>Pressure</td>\n    </tr>\n    <tr>\n      <th>Alakazam</th>\n      <td>Psychic</td>\n      <td>Psi Pokémon</td>\n      <td>(4′11″)</td>\n      <td>48.0 kg (105.8 lbs)</td>\n      <td>1. Synchronize, 2. Inner Focus, Magic Guard (h...</td>\n      <td>3 Sp. Atk</td>\n      <td>50 (6.5% with PokéBall, full HP)</td>\n      <td>50 (normal)</td>\n      <td>225</td>\n      <td>Medium Slow</td>\n      <td>...</td>\n      <td>220</td>\n      <td>372</td>\n      <td>Psychic</td>\n      <td></td>\n      <td>True</td>\n      <td>False</td>\n      <td>False</td>\n      <td>Synchronize</td>\n      <td>Magic Guard</td>\n      <td>Inner Focus</td>\n    </tr>\n    <tr>\n      <th>Alolan Sandslash</th>\n      <td>Ice, Steel</td>\n      <td>Mouse Pokémon</td>\n      <td>(3′11″)</td>\n      <td>55.0 kg (121.3 lbs)</td>\n      <td>1. Snow Cloak, Slush Rush (hidden ability)</td>\n      <td>2 Defense</td>\n      <td>90 (11.8% with PokéBall, full HP)</td>\n      <td>50 (normal)</td>\n      <td>158</td>\n      <td>Medium Fast</td>\n      <td>...</td>\n      <td>121</td>\n      <td>251</td>\n      <td>Ice</td>\n      <td>Steel</td>\n      <td>True</td>\n      <td>False</td>\n      <td>False</td>\n      <td>Snow</td>\n      <td>Slush Rush</td>\n      <td>None</td>\n    </tr>\n    <tr>\n      <th>Arbok</th>\n      <td>Poison</td>\n      <td>Cobra Pokémon</td>\n      <td>(11′06″)</td>\n      <td>65.0 kg (143.3 lbs)</td>\n      <td>1. Intimidate, 2. Shed Skin, Unnerve (hidden a...</td>\n      <td>2 Attack</td>\n      <td>90 (11.8% with PokéBall, full HP)</td>\n      <td>50 (normal)</td>\n      <td>157</td>\n      <td>Medium Fast</td>\n      <td>...</td>\n      <td>148</td>\n      <td>284</td>\n      <td>Poison</td>\n      <td></td>\n      <td>True</td>\n      <td>False</td>\n      <td>False</td>\n      <td>Intimidate</td>\n      <td>Unnerve</td>\n      <td>Shed Skin</td>\n    </tr>\n    <tr>\n      <th>...</th>\n      <td>...</td>\n      <td>...</td>\n      <td>...</td>\n      <td>...</td>\n      <td>...</td>\n      <td>...</td>\n      <td>...</td>\n      <td>...</td>\n      <td>...</td>\n      <td>...</td>\n      <td>...</td>\n      <td>...</td>\n      <td>...</td>\n      <td>...</td>\n      <td>...</td>\n      <td>...</td>\n      <td>...</td>\n      <td>...</td>\n      <td>...</td>\n      <td>...</td>\n      <td>...</td>\n    </tr>\n    <tr>\n      <th>Weepinbell</th>\n      <td>Grass, Poison</td>\n      <td>Flycatcher Pokémon</td>\n      <td>(3′03″)</td>\n      <td>6.4 kg (14.1 lbs)</td>\n      <td>1. Chlorophyll, Gluttony (hidden ability)</td>\n      <td>2 Attack</td>\n      <td>120 (15.7% with PokéBall, full HP)</td>\n      <td>50 (normal)</td>\n      <td>137</td>\n      <td>Medium Slow</td>\n      <td>...</td>\n      <td>103</td>\n      <td>229</td>\n      <td>Grass</td>\n      <td>Poison</td>\n      <td>True</td>\n      <td>False</td>\n      <td>False</td>\n      <td>Chlorophyll</td>\n      <td>Gluttony</td>\n      <td>None</td>\n    </tr>\n    <tr>\n      <th>Weezing</th>\n      <td>Poison</td>\n      <td>Poison Gas Pokémon</td>\n      <td>(3′11″)</td>\n      <td>9.5 kg (20.9 lbs)</td>\n      <td>1. Levitate, 2. Neutralizing Gas, Stench (hidd...</td>\n      <td>2 Defense</td>\n      <td>60 (7.8% with PokéBall, full HP)</td>\n      <td>50 (normal)</td>\n      <td>172</td>\n      <td>Medium Fast</td>\n      <td>...</td>\n      <td>112</td>\n      <td>240</td>\n      <td>Poison</td>\n      <td></td>\n      <td>True</td>\n      <td>False</td>\n      <td>False</td>\n      <td>Levitate</td>\n      <td>Stench</td>\n      <td>Neutralizing Gas</td>\n    </tr>\n    <tr>\n      <th>Wigglytuff</th>\n      <td>Normal, Fairy</td>\n      <td>Balloon Pokémon</td>\n      <td>(3′03″)</td>\n      <td>12.0 kg (26.5 lbs)</td>\n      <td>1. Cute Charm, 2. Competitive, Frisk (hidden a...</td>\n      <td>3 HP</td>\n      <td>50 (6.5% with PokéBall, full HP)</td>\n      <td>50 (normal)</td>\n      <td>218</td>\n      <td>Fast</td>\n      <td>...</td>\n      <td>85</td>\n      <td>207</td>\n      <td>Normal</td>\n      <td>Fairy</td>\n      <td>True</td>\n      <td>False</td>\n      <td>False</td>\n      <td>Cute</td>\n      <td>Frisk</td>\n      <td>Competitive</td>\n    </tr>\n    <tr>\n      <th>Zapdos</th>\n      <td>Electric, Flying</td>\n      <td>Electric Pokémon</td>\n      <td>(5′03″)</td>\n      <td>52.6 kg (116.0 lbs)</td>\n      <td>1. Pressure, Static (hidden ability)</td>\n      <td>3 Sp. Atk</td>\n      <td>3 (0.4% with PokéBall, full HP)</td>\n      <td>35 (lower than normal)</td>\n      <td>290</td>\n      <td>Slow</td>\n      <td>...</td>\n      <td>184</td>\n      <td>328</td>\n      <td>Electric</td>\n      <td>Flying</td>\n      <td>False</td>\n      <td>False</td>\n      <td>True</td>\n      <td>Pressure</td>\n      <td>Static</td>\n      <td>None</td>\n    </tr>\n    <tr>\n      <th>Zubat</th>\n      <td>Poison, Flying</td>\n      <td>Bat Pokémon</td>\n      <td>(2′07″)</td>\n      <td>7.5 kg (16.5 lbs)</td>\n      <td>1. Inner Focus, Infiltrator (hidden ability)</td>\n      <td>1 Speed</td>\n      <td>255 (33.3% with PokéBall, full HP)</td>\n      <td>50 (normal)</td>\n      <td>49</td>\n      <td>Medium Fast</td>\n      <td>...</td>\n      <td>103</td>\n      <td>229</td>\n      <td>Poison</td>\n      <td>Flying</td>\n      <td>True</td>\n      <td>False</td>\n      <td>False</td>\n      <td>Inner</td>\n      <td>Infiltrator</td>\n      <td>None</td>\n    </tr>\n  </tbody>\n</table>\n<p>148 rows × 39 columns</p>\n</div>"
     },
     "execution_count": 61,
     "metadata": {},
     "output_type": "execute_result"
    }
   ],
   "source": [
    "test"
   ],
   "metadata": {
    "collapsed": false,
    "ExecuteTime": {
     "end_time": "2024-04-10T07:47:24.534864Z",
     "start_time": "2024-04-10T07:47:24.508950Z"
    }
   },
   "id": "7ab1a14527604ca0",
   "execution_count": 61
  },
  {
   "cell_type": "code",
   "outputs": [],
   "source": [
    "test.drop([\"Abilities\",\"Type\",\"Abilities\",\"Base Friendship\"], axis=1, inplace=True)"
   ],
   "metadata": {
    "collapsed": false,
    "ExecuteTime": {
     "end_time": "2024-04-10T08:46:28.852178Z",
     "start_time": "2024-04-10T08:46:28.837346Z"
    }
   },
   "id": "30ec50830e324453",
   "execution_count": 65
  },
  {
   "cell_type": "code",
   "outputs": [],
   "source": [
    "test[\"Species\"] = test[\"Species\"].apply(lambda x :x.split(\" \")[0])"
   ],
   "metadata": {
    "collapsed": false,
    "ExecuteTime": {
     "end_time": "2024-04-10T08:47:56.809063Z",
     "start_time": "2024-04-10T08:47:56.797158Z"
    }
   },
   "id": "aa518d5bf87c5230",
   "execution_count": 68
  },
  {
   "cell_type": "code",
   "outputs": [],
   "source": [
    "test[\"Egg Cycles\"] = test[\"Egg Cycles\"].apply(lambda x:x.split(\" \")[0])"
   ],
   "metadata": {
    "collapsed": false,
    "ExecuteTime": {
     "end_time": "2024-04-10T08:48:52.257197Z",
     "start_time": "2024-04-10T08:48:52.238067Z"
    }
   },
   "id": "b3aa2a3c52473bb",
   "execution_count": 70
  },
  {
   "cell_type": "code",
   "outputs": [],
   "source": [
    "test[\"Weight\"] = test[\"Weight\"].apply(lambda x: x.split(\" \")[0] )"
   ],
   "metadata": {
    "collapsed": false,
    "ExecuteTime": {
     "end_time": "2024-04-10T08:50:16.573765Z",
     "start_time": "2024-04-10T08:50:16.564774Z"
    }
   },
   "id": "8d31ca27cd6a2979",
   "execution_count": 72
  },
  {
   "cell_type": "code",
   "outputs": [],
   "source": [
    "test[\"Height\"] = test[\"Height\"].apply(lambda x: x.replace('(',\" \") )"
   ],
   "metadata": {
    "collapsed": false,
    "ExecuteTime": {
     "end_time": "2024-04-10T08:52:18.316272Z",
     "start_time": "2024-04-10T08:52:18.305601Z"
    }
   },
   "id": "dbd5fe593c667f1b",
   "execution_count": 79
  },
  {
   "cell_type": "code",
   "outputs": [
    {
     "data": {
      "text/plain": "                     Species    Height Weight   EV Yield  \\\nAbra                     Psi    2′11″    19.5  1 Sp. Atk   \nAerodactyl            Fossil    5′11″    59.0    2 Speed   \nAlakazam                 Psi    4′11″    48.0  3 Sp. Atk   \nAlolan Sandslash       Mouse    3′11″    55.0  2 Defense   \nArbok                  Cobra   11′06″    65.0   2 Attack   \n...                      ...       ...    ...        ...   \nWeepinbell        Flycatcher    3′03″     6.4   2 Attack   \nWeezing               Poison    3′11″     9.5  2 Defense   \nWigglytuff           Balloon    3′03″    12.0       3 HP   \nZapdos              Electric    5′03″    52.6  3 Sp. Atk   \nZubat                    Bat    2′07″     7.5    1 Speed   \n\n                                          Catch Rate Base Exp  Growth Rate  \\\nAbra              200 (26.1% with PokéBall, full HP)       62  Medium Slow   \nAerodactyl          45 (5.9% with PokéBall, full HP)      180         Slow   \nAlakazam            50 (6.5% with PokéBall, full HP)      225  Medium Slow   \nAlolan Sandslash   90 (11.8% with PokéBall, full HP)      158  Medium Fast   \nArbok              90 (11.8% with PokéBall, full HP)      157  Medium Fast   \n...                                              ...      ...          ...   \nWeepinbell        120 (15.7% with PokéBall, full HP)      137  Medium Slow   \nWeezing             60 (7.8% with PokéBall, full HP)      172  Medium Fast   \nWigglytuff          50 (6.5% with PokéBall, full HP)      218         Fast   \nZapdos               3 (0.4% with PokéBall, full HP)      290         Slow   \nZubat             255 (33.3% with PokéBall, full HP)       49  Medium Fast   \n\n                     Egg Groups                    Gender Egg Cycles  ...  \\\nAbra                 Human-Like      75% male, 25% female         20  ...   \nAerodactyl               Flying  87.5% male, 12.5% female         35  ...   \nAlakazam             Human-Like      75% male, 25% female         20  ...   \nAlolan Sandslash          Field      50% male, 50% female         20  ...   \nArbok             Dragon, Field      50% male, 50% female         20  ...   \n...                         ...                       ...        ...  ...   \nWeepinbell                Grass      50% male, 50% female         20  ...   \nWeezing               Amorphous      50% male, 50% female         20  ...   \nWigglytuff                Fairy      25% male, 75% female         10  ...   \nZapdos             Undiscovered                Genderless         80  ...   \nZubat                    Flying      50% male, 50% female         15  ...   \n\n                 Speed Max Primary Type Secondary Normal Friendship  \\\nAbra                   306      Psychic                        True   \nAerodactyl             394        Rock     Flying              True   \nAlakazam               372      Psychic                        True   \nAlolan Sandslash       251         Ice      Steel              True   \nArbok                  284       Poison                        True   \n...                    ...          ...       ...               ...   \nWeepinbell             229       Grass     Poison              True   \nWeezing                240       Poison                        True   \nWigglytuff             207      Normal      Fairy              True   \nZapdos                 328    Electric     Flying             False   \nZubat                  229      Poison     Flying              True   \n\n                 Higher than normal Friendship Lower than Normal Friendship  \\\nAbra                                     False                        False   \nAerodactyl                               False                        False   \nAlakazam                                 False                        False   \nAlolan Sandslash                         False                        False   \nArbok                                    False                        False   \n...                                        ...                          ...   \nWeepinbell                               False                        False   \nWeezing                                  False                        False   \nWigglytuff                               False                        False   \nZapdos                                   False                         True   \nZubat                                    False                        False   \n\n                 Primary Ability  Hidden Ability   Secondary Ability  \\\nAbra                 Synchronize   Magic Guard           Inner Focus   \nAerodactyl                  Rock       Unnerve              Pressure   \nAlakazam             Synchronize   Magic Guard           Inner Focus   \nAlolan Sandslash            Snow    Slush Rush                  None   \nArbok                 Intimidate       Unnerve             Shed Skin   \n...                          ...             ...                 ...   \nWeepinbell           Chlorophyll      Gluttony                  None   \nWeezing                 Levitate        Stench      Neutralizing Gas   \nWigglytuff                  Cute         Frisk           Competitive   \nZapdos                  Pressure        Static                  None   \nZubat                      Inner   Infiltrator                  None   \n\n                 Secondary Type  \nAbra                       None  \nAerodactyl               Flying  \nAlakazam                   None  \nAlolan Sandslash          Steel  \nArbok                      None  \n...                         ...  \nWeepinbell               Poison  \nWeezing                    None  \nWigglytuff                Fairy  \nZapdos                   Flying  \nZubat                    Flying  \n\n[148 rows x 37 columns]",
      "text/html": "<div>\n<style scoped>\n    .dataframe tbody tr th:only-of-type {\n        vertical-align: middle;\n    }\n\n    .dataframe tbody tr th {\n        vertical-align: top;\n    }\n\n    .dataframe thead th {\n        text-align: right;\n    }\n</style>\n<table border=\"1\" class=\"dataframe\">\n  <thead>\n    <tr style=\"text-align: right;\">\n      <th></th>\n      <th>Species</th>\n      <th>Height</th>\n      <th>Weight</th>\n      <th>EV Yield</th>\n      <th>Catch Rate</th>\n      <th>Base Exp</th>\n      <th>Growth Rate</th>\n      <th>Egg Groups</th>\n      <th>Gender</th>\n      <th>Egg Cycles</th>\n      <th>...</th>\n      <th>Speed Max</th>\n      <th>Primary Type</th>\n      <th>Secondary</th>\n      <th>Normal Friendship</th>\n      <th>Higher than normal Friendship</th>\n      <th>Lower than Normal Friendship</th>\n      <th>Primary Ability</th>\n      <th>Hidden Ability</th>\n      <th>Secondary Ability</th>\n      <th>Secondary Type</th>\n    </tr>\n  </thead>\n  <tbody>\n    <tr>\n      <th>Abra</th>\n      <td>Psi</td>\n      <td>2′11″</td>\n      <td>19.5</td>\n      <td>1 Sp. Atk</td>\n      <td>200 (26.1% with PokéBall, full HP)</td>\n      <td>62</td>\n      <td>Medium Slow</td>\n      <td>Human-Like</td>\n      <td>75% male, 25% female</td>\n      <td>20</td>\n      <td>...</td>\n      <td>306</td>\n      <td>Psychic</td>\n      <td></td>\n      <td>True</td>\n      <td>False</td>\n      <td>False</td>\n      <td>Synchronize</td>\n      <td>Magic Guard</td>\n      <td>Inner Focus</td>\n      <td>None</td>\n    </tr>\n    <tr>\n      <th>Aerodactyl</th>\n      <td>Fossil</td>\n      <td>5′11″</td>\n      <td>59.0</td>\n      <td>2 Speed</td>\n      <td>45 (5.9% with PokéBall, full HP)</td>\n      <td>180</td>\n      <td>Slow</td>\n      <td>Flying</td>\n      <td>87.5% male, 12.5% female</td>\n      <td>35</td>\n      <td>...</td>\n      <td>394</td>\n      <td>Rock</td>\n      <td>Flying</td>\n      <td>True</td>\n      <td>False</td>\n      <td>False</td>\n      <td>Rock</td>\n      <td>Unnerve</td>\n      <td>Pressure</td>\n      <td>Flying</td>\n    </tr>\n    <tr>\n      <th>Alakazam</th>\n      <td>Psi</td>\n      <td>4′11″</td>\n      <td>48.0</td>\n      <td>3 Sp. Atk</td>\n      <td>50 (6.5% with PokéBall, full HP)</td>\n      <td>225</td>\n      <td>Medium Slow</td>\n      <td>Human-Like</td>\n      <td>75% male, 25% female</td>\n      <td>20</td>\n      <td>...</td>\n      <td>372</td>\n      <td>Psychic</td>\n      <td></td>\n      <td>True</td>\n      <td>False</td>\n      <td>False</td>\n      <td>Synchronize</td>\n      <td>Magic Guard</td>\n      <td>Inner Focus</td>\n      <td>None</td>\n    </tr>\n    <tr>\n      <th>Alolan Sandslash</th>\n      <td>Mouse</td>\n      <td>3′11″</td>\n      <td>55.0</td>\n      <td>2 Defense</td>\n      <td>90 (11.8% with PokéBall, full HP)</td>\n      <td>158</td>\n      <td>Medium Fast</td>\n      <td>Field</td>\n      <td>50% male, 50% female</td>\n      <td>20</td>\n      <td>...</td>\n      <td>251</td>\n      <td>Ice</td>\n      <td>Steel</td>\n      <td>True</td>\n      <td>False</td>\n      <td>False</td>\n      <td>Snow</td>\n      <td>Slush Rush</td>\n      <td>None</td>\n      <td>Steel</td>\n    </tr>\n    <tr>\n      <th>Arbok</th>\n      <td>Cobra</td>\n      <td>11′06″</td>\n      <td>65.0</td>\n      <td>2 Attack</td>\n      <td>90 (11.8% with PokéBall, full HP)</td>\n      <td>157</td>\n      <td>Medium Fast</td>\n      <td>Dragon, Field</td>\n      <td>50% male, 50% female</td>\n      <td>20</td>\n      <td>...</td>\n      <td>284</td>\n      <td>Poison</td>\n      <td></td>\n      <td>True</td>\n      <td>False</td>\n      <td>False</td>\n      <td>Intimidate</td>\n      <td>Unnerve</td>\n      <td>Shed Skin</td>\n      <td>None</td>\n    </tr>\n    <tr>\n      <th>...</th>\n      <td>...</td>\n      <td>...</td>\n      <td>...</td>\n      <td>...</td>\n      <td>...</td>\n      <td>...</td>\n      <td>...</td>\n      <td>...</td>\n      <td>...</td>\n      <td>...</td>\n      <td>...</td>\n      <td>...</td>\n      <td>...</td>\n      <td>...</td>\n      <td>...</td>\n      <td>...</td>\n      <td>...</td>\n      <td>...</td>\n      <td>...</td>\n      <td>...</td>\n      <td>...</td>\n    </tr>\n    <tr>\n      <th>Weepinbell</th>\n      <td>Flycatcher</td>\n      <td>3′03″</td>\n      <td>6.4</td>\n      <td>2 Attack</td>\n      <td>120 (15.7% with PokéBall, full HP)</td>\n      <td>137</td>\n      <td>Medium Slow</td>\n      <td>Grass</td>\n      <td>50% male, 50% female</td>\n      <td>20</td>\n      <td>...</td>\n      <td>229</td>\n      <td>Grass</td>\n      <td>Poison</td>\n      <td>True</td>\n      <td>False</td>\n      <td>False</td>\n      <td>Chlorophyll</td>\n      <td>Gluttony</td>\n      <td>None</td>\n      <td>Poison</td>\n    </tr>\n    <tr>\n      <th>Weezing</th>\n      <td>Poison</td>\n      <td>3′11″</td>\n      <td>9.5</td>\n      <td>2 Defense</td>\n      <td>60 (7.8% with PokéBall, full HP)</td>\n      <td>172</td>\n      <td>Medium Fast</td>\n      <td>Amorphous</td>\n      <td>50% male, 50% female</td>\n      <td>20</td>\n      <td>...</td>\n      <td>240</td>\n      <td>Poison</td>\n      <td></td>\n      <td>True</td>\n      <td>False</td>\n      <td>False</td>\n      <td>Levitate</td>\n      <td>Stench</td>\n      <td>Neutralizing Gas</td>\n      <td>None</td>\n    </tr>\n    <tr>\n      <th>Wigglytuff</th>\n      <td>Balloon</td>\n      <td>3′03″</td>\n      <td>12.0</td>\n      <td>3 HP</td>\n      <td>50 (6.5% with PokéBall, full HP)</td>\n      <td>218</td>\n      <td>Fast</td>\n      <td>Fairy</td>\n      <td>25% male, 75% female</td>\n      <td>10</td>\n      <td>...</td>\n      <td>207</td>\n      <td>Normal</td>\n      <td>Fairy</td>\n      <td>True</td>\n      <td>False</td>\n      <td>False</td>\n      <td>Cute</td>\n      <td>Frisk</td>\n      <td>Competitive</td>\n      <td>Fairy</td>\n    </tr>\n    <tr>\n      <th>Zapdos</th>\n      <td>Electric</td>\n      <td>5′03″</td>\n      <td>52.6</td>\n      <td>3 Sp. Atk</td>\n      <td>3 (0.4% with PokéBall, full HP)</td>\n      <td>290</td>\n      <td>Slow</td>\n      <td>Undiscovered</td>\n      <td>Genderless</td>\n      <td>80</td>\n      <td>...</td>\n      <td>328</td>\n      <td>Electric</td>\n      <td>Flying</td>\n      <td>False</td>\n      <td>False</td>\n      <td>True</td>\n      <td>Pressure</td>\n      <td>Static</td>\n      <td>None</td>\n      <td>Flying</td>\n    </tr>\n    <tr>\n      <th>Zubat</th>\n      <td>Bat</td>\n      <td>2′07″</td>\n      <td>7.5</td>\n      <td>1 Speed</td>\n      <td>255 (33.3% with PokéBall, full HP)</td>\n      <td>49</td>\n      <td>Medium Fast</td>\n      <td>Flying</td>\n      <td>50% male, 50% female</td>\n      <td>15</td>\n      <td>...</td>\n      <td>229</td>\n      <td>Poison</td>\n      <td>Flying</td>\n      <td>True</td>\n      <td>False</td>\n      <td>False</td>\n      <td>Inner</td>\n      <td>Infiltrator</td>\n      <td>None</td>\n      <td>Flying</td>\n    </tr>\n  </tbody>\n</table>\n<p>148 rows × 37 columns</p>\n</div>"
     },
     "execution_count": 80,
     "metadata": {},
     "output_type": "execute_result"
    }
   ],
   "source": [
    "test"
   ],
   "metadata": {
    "collapsed": false,
    "ExecuteTime": {
     "end_time": "2024-04-10T08:52:18.766075Z",
     "start_time": "2024-04-10T08:52:18.741078Z"
    }
   },
   "id": "70097c5802f83019",
   "execution_count": 80
  },
  {
   "cell_type": "code",
   "outputs": [],
   "source": [
    "test.to_csv(\"cleaned_pokemon_data.csv\")"
   ],
   "metadata": {
    "collapsed": false,
    "ExecuteTime": {
     "end_time": "2024-04-10T08:53:57.904718Z",
     "start_time": "2024-04-10T08:53:57.897730Z"
    }
   },
   "id": "6df17aaa9d2b5020",
   "execution_count": 81
  },
  {
   "cell_type": "code",
   "outputs": [],
   "source": [],
   "metadata": {
    "collapsed": false
   },
   "id": "f95ee6bc2568508b"
  }
 ],
 "metadata": {
  "kernelspec": {
   "display_name": "Python 3 (ipykernel)",
   "language": "python",
   "name": "python3"
  },
  "language_info": {
   "codemirror_mode": {
    "name": "ipython",
    "version": 3
   },
   "file_extension": ".py",
   "mimetype": "text/x-python",
   "name": "python",
   "nbconvert_exporter": "python",
   "pygments_lexer": "ipython3",
   "version": "3.9.18"
  }
 },
 "nbformat": 4,
 "nbformat_minor": 5
}
