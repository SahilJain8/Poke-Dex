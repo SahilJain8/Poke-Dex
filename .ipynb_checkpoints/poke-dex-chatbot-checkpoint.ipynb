{
 "cells": [
  {
   "cell_type": "code",
   "execution_count": 1,
   "id": "initial_id",
   "metadata": {
    "collapsed": true,
    "ExecuteTime": {
     "end_time": "2024-04-10T06:45:01.450350Z",
     "start_time": "2024-04-10T06:45:01.440812Z"
    }
   },
   "outputs": [],
   "source": [
    "import  json\n",
    "import os"
   ]
  },
  {
   "cell_type": "markdown",
   "source": [],
   "metadata": {
    "collapsed": false
   },
   "id": "5a549e941decdab6"
  },
  {
   "cell_type": "code",
   "outputs": [],
   "source": [
    "with open('pokemon_data/archive/pokemonDB_dataset.json') as config_file:\n",
    "    pokedex_db = json.load(config_file)"
   ],
   "metadata": {
    "collapsed": false,
    "ExecuteTime": {
     "end_time": "2024-04-08T06:26:17.536350Z",
     "start_time": "2024-04-08T06:26:17.518321Z"
    }
   },
   "id": "ba4ae0e3ead13d18",
   "execution_count": 2
  },
  {
   "cell_type": "code",
   "outputs": [],
   "source": [
    "pokedex_image_class = os.listdir(\"pokemon_data/archive (1)/PokemonData\")"
   ],
   "metadata": {
    "collapsed": false,
    "ExecuteTime": {
     "end_time": "2024-04-08T06:27:24.946056Z",
     "start_time": "2024-04-08T06:27:24.940536Z"
    }
   },
   "id": "3a3581a610f6b657",
   "execution_count": 9
  },
  {
   "cell_type": "code",
   "outputs": [
    {
     "data": {
      "text/plain": "False"
     },
     "execution_count": 10,
     "metadata": {},
     "output_type": "execute_result"
    }
   ],
   "source": [
    "pokedex_image_class == pokedex_db.keys()"
   ],
   "metadata": {
    "collapsed": false,
    "ExecuteTime": {
     "end_time": "2024-04-08T06:27:27.407128Z",
     "start_time": "2024-04-08T06:27:27.395604Z"
    }
   },
   "id": "d249f027fda82519",
   "execution_count": 10
  },
  {
   "cell_type": "code",
   "outputs": [
    {
     "data": {
      "text/plain": "150"
     },
     "execution_count": 11,
     "metadata": {},
     "output_type": "execute_result"
    }
   ],
   "source": [
    "len(pokedex_image_class)"
   ],
   "metadata": {
    "collapsed": false,
    "ExecuteTime": {
     "end_time": "2024-04-08T06:27:34.518493Z",
     "start_time": "2024-04-08T06:27:34.510121Z"
    }
   },
   "id": "a1ea59497f91f4e0",
   "execution_count": 11
  },
  {
   "cell_type": "code",
   "outputs": [
    {
     "data": {
      "text/plain": "1215"
     },
     "execution_count": 12,
     "metadata": {},
     "output_type": "execute_result"
    }
   ],
   "source": [
    "len(pokedex_db)"
   ],
   "metadata": {
    "collapsed": false,
    "ExecuteTime": {
     "end_time": "2024-04-08T06:27:43.217703Z",
     "start_time": "2024-04-08T06:27:43.206758Z"
    }
   },
   "id": "fb6323c22b0894a1",
   "execution_count": 12
  },
  {
   "cell_type": "code",
   "outputs": [
    {
     "name": "stdout",
     "output_type": "stream",
     "text": [
      "'Farfetchd'\n",
      "'MrMime'\n"
     ]
    }
   ],
   "source": [
    "pokedex_db_clean = {}\n",
    "for pokemon in pokedex_image_class:\n",
    "    try:\n",
    "        pokedex_db_clean[pokemon] = pokedex_db[pokemon]\n",
    "    except Exception as e:\n",
    "        print(str(e))"
   ],
   "metadata": {
    "collapsed": false,
    "ExecuteTime": {
     "end_time": "2024-04-08T06:29:19.581302Z",
     "start_time": "2024-04-08T06:29:19.563783Z"
    }
   },
   "id": "9dfbb535f1dc83fd",
   "execution_count": 14
  },
  {
   "cell_type": "code",
   "outputs": [
    {
     "data": {
      "text/plain": "{'Type': 'Psychic',\n 'Species': 'Psi Pokémon',\n 'Height': '0.9 m (2′11″)',\n 'Weight': '19.5 kg (43.0 lbs)',\n 'Abilities': '1. Synchronize, 2. Inner Focus, Magic Guard (hidden ability)',\n 'EV Yield': '1 Sp. Atk',\n 'Catch Rate': '200 (26.1% with PokéBall, full HP)',\n 'Base Friendship': '50 (normal)',\n 'Base Exp': '62',\n 'Growth Rate': 'Medium Slow',\n 'Egg Groups': 'Human-Like',\n 'Gender': '75% male, 25% female',\n 'Egg Cycles': '20 (4,884–5,140 steps)',\n 'HP Base': '25',\n 'HP Min': '160',\n 'HP Max': '254',\n 'Attack Base': '20',\n 'Attack Min': '40',\n 'Attack Max': '152',\n 'Defense Base': '15',\n 'Defense Min': '31',\n 'Defense Max': '141',\n 'Special Attack Base': '105',\n 'Special Attack Min': '193',\n 'Special Attack Max': '339',\n 'Special Defense Base': '55',\n 'Special Defense Min': '103',\n 'Special Defense Max': '229',\n 'Speed Base': '90',\n 'Speed Min': '166',\n 'Speed Max': '306'}"
     },
     "execution_count": 18,
     "metadata": {},
     "output_type": "execute_result"
    }
   ],
   "source": [
    "pokedex_db_clean['Abra']"
   ],
   "metadata": {
    "collapsed": false,
    "ExecuteTime": {
     "end_time": "2024-04-08T07:01:53.001841Z",
     "start_time": "2024-04-08T07:01:52.989838Z"
    }
   },
   "id": "346921a718ae0b05",
   "execution_count": 18
  },
  {
   "cell_type": "code",
   "outputs": [],
   "source": [
    "import pandas as pd\n",
    "dfs = []\n",
    "for pokemon, data in pokedex_db_clean.items():\n",
    "    df = pd.DataFrame.from_dict({pokemon: data}, orient='index')\n",
    "    dfs.append(df)\n",
    "\n",
    "combined_df = pd.concat(dfs)"
   ],
   "metadata": {
    "collapsed": false,
    "ExecuteTime": {
     "end_time": "2024-04-08T10:21:18.584637Z",
     "start_time": "2024-04-08T10:21:18.516656Z"
    }
   },
   "id": "6479e3b225caf6f9",
   "execution_count": 65
  },
  {
   "cell_type": "code",
   "outputs": [
    {
     "data": {
      "text/plain": "                              Type             Species          Height  \\\nAbra                       Psychic         Psi Pokémon   0.9 m (2′11″)   \nAerodactyl            Rock, Flying      Fossil Pokémon   1.8 m (5′11″)   \nAlakazam                   Psychic         Psi Pokémon   1.5 m (4′11″)   \nAlolan Sandslash        Ice, Steel       Mouse Pokémon   1.2 m (3′11″)   \nArbok                       Poison       Cobra Pokémon  3.5 m (11′06″)   \n...                            ...                 ...             ...   \nWeepinbell           Grass, Poison  Flycatcher Pokémon   1.0 m (3′03″)   \nWeezing                     Poison  Poison Gas Pokémon   1.2 m (3′11″)   \nWigglytuff           Normal, Fairy     Balloon Pokémon   1.0 m (3′03″)   \nZapdos            Electric, Flying    Electric Pokémon   1.6 m (5′03″)   \nZubat               Poison, Flying         Bat Pokémon   0.8 m (2′07″)   \n\n                               Weight  \\\nAbra               19.5 kg (43.0 lbs)   \nAerodactyl        59.0 kg (130.1 lbs)   \nAlakazam          48.0 kg (105.8 lbs)   \nAlolan Sandslash  55.0 kg (121.3 lbs)   \nArbok             65.0 kg (143.3 lbs)   \n...                               ...   \nWeepinbell          6.4 kg (14.1 lbs)   \nWeezing             9.5 kg (20.9 lbs)   \nWigglytuff         12.0 kg (26.5 lbs)   \nZapdos            52.6 kg (116.0 lbs)   \nZubat               7.5 kg (16.5 lbs)   \n\n                                                          Abilities  \\\nAbra              1. Synchronize, 2. Inner Focus, Magic Guard (h...   \nAerodactyl        1. Rock Head, 2. Pressure, Unnerve (hidden abi...   \nAlakazam          1. Synchronize, 2. Inner Focus, Magic Guard (h...   \nAlolan Sandslash         1. Snow Cloak, Slush Rush (hidden ability)   \nArbok             1. Intimidate, 2. Shed Skin, Unnerve (hidden a...   \n...                                                             ...   \nWeepinbell                1. Chlorophyll, Gluttony (hidden ability)   \nWeezing           1. Levitate, 2. Neutralizing Gas, Stench (hidd...   \nWigglytuff        1. Cute Charm, 2. Competitive, Frisk (hidden a...   \nZapdos                         1. Pressure, Static (hidden ability)   \nZubat                  1. Inner Focus, Infiltrator (hidden ability)   \n\n                   EV Yield                          Catch Rate  \\\nAbra              1 Sp. Atk  200 (26.1% with PokéBall, full HP)   \nAerodactyl          2 Speed    45 (5.9% with PokéBall, full HP)   \nAlakazam          3 Sp. Atk    50 (6.5% with PokéBall, full HP)   \nAlolan Sandslash  2 Defense   90 (11.8% with PokéBall, full HP)   \nArbok              2 Attack   90 (11.8% with PokéBall, full HP)   \n...                     ...                                 ...   \nWeepinbell         2 Attack  120 (15.7% with PokéBall, full HP)   \nWeezing           2 Defense    60 (7.8% with PokéBall, full HP)   \nWigglytuff             3 HP    50 (6.5% with PokéBall, full HP)   \nZapdos            3 Sp. Atk     3 (0.4% with PokéBall, full HP)   \nZubat               1 Speed  255 (33.3% with PokéBall, full HP)   \n\n                         Base Friendship Base Exp  Growth Rate  ...  \\\nAbra                         50 (normal)       62  Medium Slow  ...   \nAerodactyl                   50 (normal)      180         Slow  ...   \nAlakazam                     50 (normal)      225  Medium Slow  ...   \nAlolan Sandslash             50 (normal)      158  Medium Fast  ...   \nArbok                        50 (normal)      157  Medium Fast  ...   \n...                                  ...      ...          ...  ...   \nWeepinbell                   50 (normal)      137  Medium Slow  ...   \nWeezing                      50 (normal)      172  Medium Fast  ...   \nWigglytuff                   50 (normal)      218         Fast  ...   \nZapdos            35 (lower than normal)      290         Slow  ...   \nZubat                        50 (normal)       49  Medium Fast  ...   \n\n                 Defense Max Special Attack Base Special Attack Min  \\\nAbra                     141                 105                193   \nAerodactyl               251                  60                112   \nAlakazam                 207                 135                247   \nAlolan Sandslash         372                  25                 49   \nArbok                    260                  65                121   \n...                      ...                 ...                ...   \nWeepinbell               218                  85                157   \nWeezing                  372                  85                157   \nWigglytuff               207                  85                157   \nZapdos                   295                 125                229   \nZubat                    185                  30                 58   \n\n                 Special Attack Max Special Defense Base Special Defense Min  \\\nAbra                            339                   55                 103   \nAerodactyl                      240                   75                 139   \nAlakazam                        405                   95                 175   \nAlolan Sandslash                163                   65                 121   \nArbok                           251                   79                 146   \n...                             ...                  ...                 ...   \nWeepinbell                      295                   45                  85   \nWeezing                         295                   70                 130   \nWigglytuff                      295                   50                  94   \nZapdos                          383                   90                 166   \nZubat                           174                   40                  76   \n\n                 Special Defense Max Speed Base Speed Min Speed Max  \nAbra                             229         90       166       306  \nAerodactyl                       273        130       238       394  \nAlakazam                         317        120       220       372  \nAlolan Sandslash                 251         65       121       251  \nArbok                            282         80       148       284  \n...                              ...        ...       ...       ...  \nWeepinbell                       207         55       103       229  \nWeezing                          262         60       112       240  \nWigglytuff                       218         45        85       207  \nZapdos                           306        100       184       328  \nZubat                            196         55       103       229  \n\n[148 rows x 31 columns]",
      "text/html": "<div>\n<style scoped>\n    .dataframe tbody tr th:only-of-type {\n        vertical-align: middle;\n    }\n\n    .dataframe tbody tr th {\n        vertical-align: top;\n    }\n\n    .dataframe thead th {\n        text-align: right;\n    }\n</style>\n<table border=\"1\" class=\"dataframe\">\n  <thead>\n    <tr style=\"text-align: right;\">\n      <th></th>\n      <th>Type</th>\n      <th>Species</th>\n      <th>Height</th>\n      <th>Weight</th>\n      <th>Abilities</th>\n      <th>EV Yield</th>\n      <th>Catch Rate</th>\n      <th>Base Friendship</th>\n      <th>Base Exp</th>\n      <th>Growth Rate</th>\n      <th>...</th>\n      <th>Defense Max</th>\n      <th>Special Attack Base</th>\n      <th>Special Attack Min</th>\n      <th>Special Attack Max</th>\n      <th>Special Defense Base</th>\n      <th>Special Defense Min</th>\n      <th>Special Defense Max</th>\n      <th>Speed Base</th>\n      <th>Speed Min</th>\n      <th>Speed Max</th>\n    </tr>\n  </thead>\n  <tbody>\n    <tr>\n      <th>Abra</th>\n      <td>Psychic</td>\n      <td>Psi Pokémon</td>\n      <td>0.9 m (2′11″)</td>\n      <td>19.5 kg (43.0 lbs)</td>\n      <td>1. Synchronize, 2. Inner Focus, Magic Guard (h...</td>\n      <td>1 Sp. Atk</td>\n      <td>200 (26.1% with PokéBall, full HP)</td>\n      <td>50 (normal)</td>\n      <td>62</td>\n      <td>Medium Slow</td>\n      <td>...</td>\n      <td>141</td>\n      <td>105</td>\n      <td>193</td>\n      <td>339</td>\n      <td>55</td>\n      <td>103</td>\n      <td>229</td>\n      <td>90</td>\n      <td>166</td>\n      <td>306</td>\n    </tr>\n    <tr>\n      <th>Aerodactyl</th>\n      <td>Rock, Flying</td>\n      <td>Fossil Pokémon</td>\n      <td>1.8 m (5′11″)</td>\n      <td>59.0 kg (130.1 lbs)</td>\n      <td>1. Rock Head, 2. Pressure, Unnerve (hidden abi...</td>\n      <td>2 Speed</td>\n      <td>45 (5.9% with PokéBall, full HP)</td>\n      <td>50 (normal)</td>\n      <td>180</td>\n      <td>Slow</td>\n      <td>...</td>\n      <td>251</td>\n      <td>60</td>\n      <td>112</td>\n      <td>240</td>\n      <td>75</td>\n      <td>139</td>\n      <td>273</td>\n      <td>130</td>\n      <td>238</td>\n      <td>394</td>\n    </tr>\n    <tr>\n      <th>Alakazam</th>\n      <td>Psychic</td>\n      <td>Psi Pokémon</td>\n      <td>1.5 m (4′11″)</td>\n      <td>48.0 kg (105.8 lbs)</td>\n      <td>1. Synchronize, 2. Inner Focus, Magic Guard (h...</td>\n      <td>3 Sp. Atk</td>\n      <td>50 (6.5% with PokéBall, full HP)</td>\n      <td>50 (normal)</td>\n      <td>225</td>\n      <td>Medium Slow</td>\n      <td>...</td>\n      <td>207</td>\n      <td>135</td>\n      <td>247</td>\n      <td>405</td>\n      <td>95</td>\n      <td>175</td>\n      <td>317</td>\n      <td>120</td>\n      <td>220</td>\n      <td>372</td>\n    </tr>\n    <tr>\n      <th>Alolan Sandslash</th>\n      <td>Ice, Steel</td>\n      <td>Mouse Pokémon</td>\n      <td>1.2 m (3′11″)</td>\n      <td>55.0 kg (121.3 lbs)</td>\n      <td>1. Snow Cloak, Slush Rush (hidden ability)</td>\n      <td>2 Defense</td>\n      <td>90 (11.8% with PokéBall, full HP)</td>\n      <td>50 (normal)</td>\n      <td>158</td>\n      <td>Medium Fast</td>\n      <td>...</td>\n      <td>372</td>\n      <td>25</td>\n      <td>49</td>\n      <td>163</td>\n      <td>65</td>\n      <td>121</td>\n      <td>251</td>\n      <td>65</td>\n      <td>121</td>\n      <td>251</td>\n    </tr>\n    <tr>\n      <th>Arbok</th>\n      <td>Poison</td>\n      <td>Cobra Pokémon</td>\n      <td>3.5 m (11′06″)</td>\n      <td>65.0 kg (143.3 lbs)</td>\n      <td>1. Intimidate, 2. Shed Skin, Unnerve (hidden a...</td>\n      <td>2 Attack</td>\n      <td>90 (11.8% with PokéBall, full HP)</td>\n      <td>50 (normal)</td>\n      <td>157</td>\n      <td>Medium Fast</td>\n      <td>...</td>\n      <td>260</td>\n      <td>65</td>\n      <td>121</td>\n      <td>251</td>\n      <td>79</td>\n      <td>146</td>\n      <td>282</td>\n      <td>80</td>\n      <td>148</td>\n      <td>284</td>\n    </tr>\n    <tr>\n      <th>...</th>\n      <td>...</td>\n      <td>...</td>\n      <td>...</td>\n      <td>...</td>\n      <td>...</td>\n      <td>...</td>\n      <td>...</td>\n      <td>...</td>\n      <td>...</td>\n      <td>...</td>\n      <td>...</td>\n      <td>...</td>\n      <td>...</td>\n      <td>...</td>\n      <td>...</td>\n      <td>...</td>\n      <td>...</td>\n      <td>...</td>\n      <td>...</td>\n      <td>...</td>\n      <td>...</td>\n    </tr>\n    <tr>\n      <th>Weepinbell</th>\n      <td>Grass, Poison</td>\n      <td>Flycatcher Pokémon</td>\n      <td>1.0 m (3′03″)</td>\n      <td>6.4 kg (14.1 lbs)</td>\n      <td>1. Chlorophyll, Gluttony (hidden ability)</td>\n      <td>2 Attack</td>\n      <td>120 (15.7% with PokéBall, full HP)</td>\n      <td>50 (normal)</td>\n      <td>137</td>\n      <td>Medium Slow</td>\n      <td>...</td>\n      <td>218</td>\n      <td>85</td>\n      <td>157</td>\n      <td>295</td>\n      <td>45</td>\n      <td>85</td>\n      <td>207</td>\n      <td>55</td>\n      <td>103</td>\n      <td>229</td>\n    </tr>\n    <tr>\n      <th>Weezing</th>\n      <td>Poison</td>\n      <td>Poison Gas Pokémon</td>\n      <td>1.2 m (3′11″)</td>\n      <td>9.5 kg (20.9 lbs)</td>\n      <td>1. Levitate, 2. Neutralizing Gas, Stench (hidd...</td>\n      <td>2 Defense</td>\n      <td>60 (7.8% with PokéBall, full HP)</td>\n      <td>50 (normal)</td>\n      <td>172</td>\n      <td>Medium Fast</td>\n      <td>...</td>\n      <td>372</td>\n      <td>85</td>\n      <td>157</td>\n      <td>295</td>\n      <td>70</td>\n      <td>130</td>\n      <td>262</td>\n      <td>60</td>\n      <td>112</td>\n      <td>240</td>\n    </tr>\n    <tr>\n      <th>Wigglytuff</th>\n      <td>Normal, Fairy</td>\n      <td>Balloon Pokémon</td>\n      <td>1.0 m (3′03″)</td>\n      <td>12.0 kg (26.5 lbs)</td>\n      <td>1. Cute Charm, 2. Competitive, Frisk (hidden a...</td>\n      <td>3 HP</td>\n      <td>50 (6.5% with PokéBall, full HP)</td>\n      <td>50 (normal)</td>\n      <td>218</td>\n      <td>Fast</td>\n      <td>...</td>\n      <td>207</td>\n      <td>85</td>\n      <td>157</td>\n      <td>295</td>\n      <td>50</td>\n      <td>94</td>\n      <td>218</td>\n      <td>45</td>\n      <td>85</td>\n      <td>207</td>\n    </tr>\n    <tr>\n      <th>Zapdos</th>\n      <td>Electric, Flying</td>\n      <td>Electric Pokémon</td>\n      <td>1.6 m (5′03″)</td>\n      <td>52.6 kg (116.0 lbs)</td>\n      <td>1. Pressure, Static (hidden ability)</td>\n      <td>3 Sp. Atk</td>\n      <td>3 (0.4% with PokéBall, full HP)</td>\n      <td>35 (lower than normal)</td>\n      <td>290</td>\n      <td>Slow</td>\n      <td>...</td>\n      <td>295</td>\n      <td>125</td>\n      <td>229</td>\n      <td>383</td>\n      <td>90</td>\n      <td>166</td>\n      <td>306</td>\n      <td>100</td>\n      <td>184</td>\n      <td>328</td>\n    </tr>\n    <tr>\n      <th>Zubat</th>\n      <td>Poison, Flying</td>\n      <td>Bat Pokémon</td>\n      <td>0.8 m (2′07″)</td>\n      <td>7.5 kg (16.5 lbs)</td>\n      <td>1. Inner Focus, Infiltrator (hidden ability)</td>\n      <td>1 Speed</td>\n      <td>255 (33.3% with PokéBall, full HP)</td>\n      <td>50 (normal)</td>\n      <td>49</td>\n      <td>Medium Fast</td>\n      <td>...</td>\n      <td>185</td>\n      <td>30</td>\n      <td>58</td>\n      <td>174</td>\n      <td>40</td>\n      <td>76</td>\n      <td>196</td>\n      <td>55</td>\n      <td>103</td>\n      <td>229</td>\n    </tr>\n  </tbody>\n</table>\n<p>148 rows × 31 columns</p>\n</div>"
     },
     "execution_count": 22,
     "metadata": {},
     "output_type": "execute_result"
    }
   ],
   "source": [
    "combined_df"
   ],
   "metadata": {
    "collapsed": false,
    "ExecuteTime": {
     "end_time": "2024-04-08T09:10:19.896851Z",
     "start_time": "2024-04-08T09:10:19.870033Z"
    }
   },
   "id": "b836e2acfbe89560",
   "execution_count": 22
  },
  {
   "cell_type": "code",
   "outputs": [],
   "source": [
    "train_data = combined_df.copy()"
   ],
   "metadata": {
    "collapsed": false,
    "ExecuteTime": {
     "end_time": "2024-04-08T10:32:06.087591Z",
     "start_time": "2024-04-08T10:32:06.071305Z"
    }
   },
   "id": "593cbd2b64082e53",
   "execution_count": 86
  },
  {
   "cell_type": "code",
   "outputs": [],
   "source": [
    "def clean_dataset(dataset: pd.DataFrame,column:str):\n",
    "    if column == \"Height\":\n",
    "        for i in range(len(dataset[column])):\n",
    "            height_str = dataset[column].iloc[i]\n",
    "            height_in_meters = height_str.split(\" \")[2]\n",
    "            dataset[column].iloc[i] = height_in_meters\n",
    "    \n",
    "        "
   ],
   "metadata": {
    "collapsed": false,
    "ExecuteTime": {
     "end_time": "2024-04-08T10:21:35.323565Z",
     "start_time": "2024-04-08T10:21:35.311973Z"
    }
   },
   "id": "f9311aebf465d77f",
   "execution_count": 69
  },
  {
   "cell_type": "code",
   "outputs": [],
   "source": [
    "test = train_data.copy()"
   ],
   "metadata": {
    "collapsed": false,
    "ExecuteTime": {
     "end_time": "2024-04-08T10:36:08.197863Z",
     "start_time": "2024-04-08T10:36:08.193352Z"
    }
   },
   "id": "6c0e6bd036e7096a",
   "execution_count": 100
  },
  {
   "cell_type": "code",
   "outputs": [
    {
     "name": "stdout",
     "output_type": "stream",
     "text": [
      "0.9 m (2′11″)\n",
      "1.8 m (5′11″)\n",
      "1.5 m (4′11″)\n",
      "1.2 m (3′11″)\n",
      "3.5 m (11′06″)\n",
      "1.9 m (6′03″)\n",
      "1.7 m (5′07″)\n",
      "1.0 m (3′03″)\n",
      "0.7 m (2′04″)\n",
      "1.6 m (5′03″)\n",
      "0.7 m (2′04″)\n",
      "1.1 m (3′07″)\n",
      "0.3 m (1′00″)\n",
      "1.1 m (3′07″)\n",
      "1.7 m (5′07″)\n",
      "0.6 m (2′00″)\n",
      "1.1 m (3′07″)\n",
      "1.3 m (4′03″)\n",
      "0.6 m (2′00″)\n",
      "1.5 m (4′11″)\n",
      "0.4 m (1′04″)\n",
      "1.7 m (5′07″)\n",
      "0.2 m (0′08″)\n",
      "0.3 m (1′00″)\n",
      "1.8 m (5′11″)\n",
      "1.4 m (4′07″)\n",
      "4.0 m (13′01″)\n",
      "2.2 m (7′03″)\n",
      "1.8 m (5′11″)\n",
      "1.0 m (3′03″)\n",
      "0.7 m (2′04″)\n",
      "0.3 m (1′00″)\n",
      "2.0 m (6′07″)\n",
      "1.1 m (3′07″)\n",
      "1.2 m (3′11″)\n",
      "0.4 m (1′04″)\n",
      "2.0 m (6′07″)\n",
      "1.2 m (3′11″)\n",
      "0.9 m (2′11″)\n",
      "1.3 m (4′03″)\n",
      "1.5 m (4′11″)\n",
      "0.4 m (1′04″)\n",
      "0.8 m (2′07″)\n",
      "1.6 m (5′03″)\n",
      "0.6 m (2′00″)\n",
      "1.7 m (5′07″)\n",
      "1.4 m (4′07″)\n",
      "1.0 m (3′03″)\n",
      "0.9 m (2′11″)\n",
      "0.7 m (2′04″)\n",
      "6.5 m (21′04″)\n",
      "1.6 m (5′03″)\n",
      "1.4 m (4′07″)\n",
      "1.5 m (4′11″)\n",
      "0.4 m (1′04″)\n",
      "1.6 m (5′03″)\n",
      "1.0 m (3′03″)\n",
      "0.5 m (1′08″)\n",
      "0.8 m (2′07″)\n",
      "1.4 m (4′07″)\n",
      "0.5 m (1′08″)\n",
      "1.3 m (4′03″)\n",
      "1.3 m (4′03″)\n",
      "0.6 m (2′00″)\n",
      "2.2 m (7′03″)\n",
      "1.3 m (4′03″)\n",
      "0.6 m (2′00″)\n",
      "0.4 m (1′04″)\n",
      "2.5 m (8′02″)\n",
      "1.2 m (3′11″)\n",
      "1.6 m (5′03″)\n",
      "1.5 m (4′11″)\n",
      "0.8 m (2′07″)\n",
      "0.9 m (2′11″)\n",
      "1.3 m (4′03″)\n",
      "0.3 m (1′00″)\n",
      "1.0 m (3′03″)\n",
      "0.5 m (1′08″)\n",
      "1.0 m (3′03″)\n",
      "0.4 m (1′04″)\n",
      "0.7 m (2′04″)\n",
      "0.4 m (1′04″)\n",
      "2.0 m (6′07″)\n",
      "2.0 m (6′07″)\n",
      "1.2 m (3′11″)\n",
      "1.4 m (4′07″)\n",
      "1.3 m (4′03″)\n",
      "0.8 m (2′07″)\n",
      "0.9 m (2′11″)\n",
      "1.1 m (3′07″)\n",
      "0.5 m (1′08″)\n",
      "0.4 m (1′04″)\n",
      "1.0 m (3′03″)\n",
      "8.8 m (28′10″)\n",
      "0.3 m (1′00″)\n",
      "1.0 m (3′03″)\n",
      "1.0 m (3′03″)\n",
      "1.5 m (4′11″)\n",
      "1.1 m (3′07″)\n",
      "0.3 m (1′00″)\n",
      "0.4 m (1′04″)\n",
      "1.5 m (4′11″)\n",
      "0.6 m (2′00″)\n",
      "1.0 m (3′03″)\n",
      "1.3 m (4′03″)\n",
      "1.0 m (3′03″)\n",
      "0.8 m (2′07″)\n",
      "1.0 m (3′03″)\n",
      "0.8 m (2′07″)\n",
      "0.8 m (2′07″)\n",
      "1.7 m (5′07″)\n",
      "0.7 m (2′04″)\n",
      "0.3 m (1′00″)\n",
      "1.9 m (6′03″)\n",
      "1.0 m (3′03″)\n",
      "0.6 m (2′00″)\n",
      "1.0 m (3′03″)\n",
      "1.5 m (4′11″)\n",
      "1.2 m (3′11″)\n",
      "1.3 m (4′03″)\n",
      "1.1 m (3′07″)\n",
      "0.3 m (1′00″)\n",
      "1.6 m (5′03″)\n",
      "1.2 m (3′11″)\n",
      "2.1 m (6′11″)\n",
      "0.3 m (1′00″)\n",
      "0.5 m (1′08″)\n",
      "1.1 m (3′07″)\n",
      "0.8 m (2′07″)\n",
      "1.0 m (3′03″)\n",
      "1.4 m (4′07″)\n",
      "0.9 m (2′11″)\n",
      "1.6 m (5′03″)\n",
      "1.0 m (3′03″)\n",
      "1.5 m (4′11″)\n",
      "1.0 m (3′03″)\n",
      "2.0 m (6′07″)\n",
      "1.7 m (5′07″)\n",
      "1.2 m (3′11″)\n",
      "0.5 m (1′08″)\n",
      "0.6 m (2′00″)\n",
      "1.0 m (3′03″)\n",
      "0.3 m (1′00″)\n",
      "1.0 m (3′03″)\n",
      "1.2 m (3′11″)\n",
      "1.0 m (3′03″)\n",
      "1.6 m (5′03″)\n",
      "0.8 m (2′07″)\n"
     ]
    },
    {
     "name": "stderr",
     "output_type": "stream",
     "text": [
      "C:\\Users\\jains\\AppData\\Local\\Temp\\ipykernel_2880\\1234371869.py:7: FutureWarning: ChainedAssignmentError: behaviour will change in pandas 3.0!\n",
      "You are setting values through chained assignment. Currently this works in certain cases, but when using Copy-on-Write (which will become the default behaviour in pandas 3.0) this will never work to update the original DataFrame or Series, because the intermediate object on which we are setting values will behave as a copy.\n",
      "A typical example is when you are setting values in a column of a DataFrame, like:\n",
      "\n",
      "df[\"col\"][row_indexer] = value\n",
      "\n",
      "Use `df.loc[row_indexer, \"col\"] = values` instead, to perform the assignment in a single step and ensure this keeps updating the original `df`.\n",
      "\n",
      "See the caveats in the documentation: https://pandas.pydata.org/pandas-docs/stable/user_guide/indexing.html#returning-a-view-versus-a-copy\n",
      "\n",
      "  dataset[column].iloc[i] = height_in_meters\n"
     ]
    }
   ],
   "source": [
    "clean_dataset(test,\"Height\")"
   ],
   "metadata": {
    "collapsed": false,
    "ExecuteTime": {
     "end_time": "2024-04-08T10:32:09.149390Z",
     "start_time": "2024-04-08T10:32:09.127585Z"
    }
   },
   "id": "c6f0f560ab46150e",
   "execution_count": 88
  },
  {
   "cell_type": "code",
   "outputs": [
    {
     "data": {
      "text/plain": "                              Type             Species    Height  \\\nAbra                       Psychic         Psi Pokémon   (2′11″)   \nAerodactyl            Rock, Flying      Fossil Pokémon   (5′11″)   \nAlakazam                   Psychic         Psi Pokémon   (4′11″)   \nAlolan Sandslash        Ice, Steel       Mouse Pokémon   (3′11″)   \nArbok                       Poison       Cobra Pokémon  (11′06″)   \n...                            ...                 ...       ...   \nWeepinbell           Grass, Poison  Flycatcher Pokémon   (3′03″)   \nWeezing                     Poison  Poison Gas Pokémon   (3′11″)   \nWigglytuff           Normal, Fairy     Balloon Pokémon   (3′03″)   \nZapdos            Electric, Flying    Electric Pokémon   (5′03″)   \nZubat               Poison, Flying         Bat Pokémon   (2′07″)   \n\n                               Weight  \\\nAbra               19.5 kg (43.0 lbs)   \nAerodactyl        59.0 kg (130.1 lbs)   \nAlakazam          48.0 kg (105.8 lbs)   \nAlolan Sandslash  55.0 kg (121.3 lbs)   \nArbok             65.0 kg (143.3 lbs)   \n...                               ...   \nWeepinbell          6.4 kg (14.1 lbs)   \nWeezing             9.5 kg (20.9 lbs)   \nWigglytuff         12.0 kg (26.5 lbs)   \nZapdos            52.6 kg (116.0 lbs)   \nZubat               7.5 kg (16.5 lbs)   \n\n                                                          Abilities  \\\nAbra              1. Synchronize, 2. Inner Focus, Magic Guard (h...   \nAerodactyl        1. Rock Head, 2. Pressure, Unnerve (hidden abi...   \nAlakazam          1. Synchronize, 2. Inner Focus, Magic Guard (h...   \nAlolan Sandslash         1. Snow Cloak, Slush Rush (hidden ability)   \nArbok             1. Intimidate, 2. Shed Skin, Unnerve (hidden a...   \n...                                                             ...   \nWeepinbell                1. Chlorophyll, Gluttony (hidden ability)   \nWeezing           1. Levitate, 2. Neutralizing Gas, Stench (hidd...   \nWigglytuff        1. Cute Charm, 2. Competitive, Frisk (hidden a...   \nZapdos                         1. Pressure, Static (hidden ability)   \nZubat                  1. Inner Focus, Infiltrator (hidden ability)   \n\n                   EV Yield                          Catch Rate  \\\nAbra              1 Sp. Atk  200 (26.1% with PokéBall, full HP)   \nAerodactyl          2 Speed    45 (5.9% with PokéBall, full HP)   \nAlakazam          3 Sp. Atk    50 (6.5% with PokéBall, full HP)   \nAlolan Sandslash  2 Defense   90 (11.8% with PokéBall, full HP)   \nArbok              2 Attack   90 (11.8% with PokéBall, full HP)   \n...                     ...                                 ...   \nWeepinbell         2 Attack  120 (15.7% with PokéBall, full HP)   \nWeezing           2 Defense    60 (7.8% with PokéBall, full HP)   \nWigglytuff             3 HP    50 (6.5% with PokéBall, full HP)   \nZapdos            3 Sp. Atk     3 (0.4% with PokéBall, full HP)   \nZubat               1 Speed  255 (33.3% with PokéBall, full HP)   \n\n                         Base Friendship Base Exp  Growth Rate  ...  \\\nAbra                         50 (normal)       62  Medium Slow  ...   \nAerodactyl                   50 (normal)      180         Slow  ...   \nAlakazam                     50 (normal)      225  Medium Slow  ...   \nAlolan Sandslash             50 (normal)      158  Medium Fast  ...   \nArbok                        50 (normal)      157  Medium Fast  ...   \n...                                  ...      ...          ...  ...   \nWeepinbell                   50 (normal)      137  Medium Slow  ...   \nWeezing                      50 (normal)      172  Medium Fast  ...   \nWigglytuff                   50 (normal)      218         Fast  ...   \nZapdos            35 (lower than normal)      290         Slow  ...   \nZubat                        50 (normal)       49  Medium Fast  ...   \n\n                 Defense Max Special Attack Base Special Attack Min  \\\nAbra                     141                 105                193   \nAerodactyl               251                  60                112   \nAlakazam                 207                 135                247   \nAlolan Sandslash         372                  25                 49   \nArbok                    260                  65                121   \n...                      ...                 ...                ...   \nWeepinbell               218                  85                157   \nWeezing                  372                  85                157   \nWigglytuff               207                  85                157   \nZapdos                   295                 125                229   \nZubat                    185                  30                 58   \n\n                 Special Attack Max Special Defense Base Special Defense Min  \\\nAbra                            339                   55                 103   \nAerodactyl                      240                   75                 139   \nAlakazam                        405                   95                 175   \nAlolan Sandslash                163                   65                 121   \nArbok                           251                   79                 146   \n...                             ...                  ...                 ...   \nWeepinbell                      295                   45                  85   \nWeezing                         295                   70                 130   \nWigglytuff                      295                   50                  94   \nZapdos                          383                   90                 166   \nZubat                           174                   40                  76   \n\n                 Special Defense Max Speed Base Speed Min Speed Max  \nAbra                             229         90       166       306  \nAerodactyl                       273        130       238       394  \nAlakazam                         317        120       220       372  \nAlolan Sandslash                 251         65       121       251  \nArbok                            282         80       148       284  \n...                              ...        ...       ...       ...  \nWeepinbell                       207         55       103       229  \nWeezing                          262         60       112       240  \nWigglytuff                       218         45        85       207  \nZapdos                           306        100       184       328  \nZubat                            196         55       103       229  \n\n[148 rows x 31 columns]",
      "text/html": "<div>\n<style scoped>\n    .dataframe tbody tr th:only-of-type {\n        vertical-align: middle;\n    }\n\n    .dataframe tbody tr th {\n        vertical-align: top;\n    }\n\n    .dataframe thead th {\n        text-align: right;\n    }\n</style>\n<table border=\"1\" class=\"dataframe\">\n  <thead>\n    <tr style=\"text-align: right;\">\n      <th></th>\n      <th>Type</th>\n      <th>Species</th>\n      <th>Height</th>\n      <th>Weight</th>\n      <th>Abilities</th>\n      <th>EV Yield</th>\n      <th>Catch Rate</th>\n      <th>Base Friendship</th>\n      <th>Base Exp</th>\n      <th>Growth Rate</th>\n      <th>...</th>\n      <th>Defense Max</th>\n      <th>Special Attack Base</th>\n      <th>Special Attack Min</th>\n      <th>Special Attack Max</th>\n      <th>Special Defense Base</th>\n      <th>Special Defense Min</th>\n      <th>Special Defense Max</th>\n      <th>Speed Base</th>\n      <th>Speed Min</th>\n      <th>Speed Max</th>\n    </tr>\n  </thead>\n  <tbody>\n    <tr>\n      <th>Abra</th>\n      <td>Psychic</td>\n      <td>Psi Pokémon</td>\n      <td>(2′11″)</td>\n      <td>19.5 kg (43.0 lbs)</td>\n      <td>1. Synchronize, 2. Inner Focus, Magic Guard (h...</td>\n      <td>1 Sp. Atk</td>\n      <td>200 (26.1% with PokéBall, full HP)</td>\n      <td>50 (normal)</td>\n      <td>62</td>\n      <td>Medium Slow</td>\n      <td>...</td>\n      <td>141</td>\n      <td>105</td>\n      <td>193</td>\n      <td>339</td>\n      <td>55</td>\n      <td>103</td>\n      <td>229</td>\n      <td>90</td>\n      <td>166</td>\n      <td>306</td>\n    </tr>\n    <tr>\n      <th>Aerodactyl</th>\n      <td>Rock, Flying</td>\n      <td>Fossil Pokémon</td>\n      <td>(5′11″)</td>\n      <td>59.0 kg (130.1 lbs)</td>\n      <td>1. Rock Head, 2. Pressure, Unnerve (hidden abi...</td>\n      <td>2 Speed</td>\n      <td>45 (5.9% with PokéBall, full HP)</td>\n      <td>50 (normal)</td>\n      <td>180</td>\n      <td>Slow</td>\n      <td>...</td>\n      <td>251</td>\n      <td>60</td>\n      <td>112</td>\n      <td>240</td>\n      <td>75</td>\n      <td>139</td>\n      <td>273</td>\n      <td>130</td>\n      <td>238</td>\n      <td>394</td>\n    </tr>\n    <tr>\n      <th>Alakazam</th>\n      <td>Psychic</td>\n      <td>Psi Pokémon</td>\n      <td>(4′11″)</td>\n      <td>48.0 kg (105.8 lbs)</td>\n      <td>1. Synchronize, 2. Inner Focus, Magic Guard (h...</td>\n      <td>3 Sp. Atk</td>\n      <td>50 (6.5% with PokéBall, full HP)</td>\n      <td>50 (normal)</td>\n      <td>225</td>\n      <td>Medium Slow</td>\n      <td>...</td>\n      <td>207</td>\n      <td>135</td>\n      <td>247</td>\n      <td>405</td>\n      <td>95</td>\n      <td>175</td>\n      <td>317</td>\n      <td>120</td>\n      <td>220</td>\n      <td>372</td>\n    </tr>\n    <tr>\n      <th>Alolan Sandslash</th>\n      <td>Ice, Steel</td>\n      <td>Mouse Pokémon</td>\n      <td>(3′11″)</td>\n      <td>55.0 kg (121.3 lbs)</td>\n      <td>1. Snow Cloak, Slush Rush (hidden ability)</td>\n      <td>2 Defense</td>\n      <td>90 (11.8% with PokéBall, full HP)</td>\n      <td>50 (normal)</td>\n      <td>158</td>\n      <td>Medium Fast</td>\n      <td>...</td>\n      <td>372</td>\n      <td>25</td>\n      <td>49</td>\n      <td>163</td>\n      <td>65</td>\n      <td>121</td>\n      <td>251</td>\n      <td>65</td>\n      <td>121</td>\n      <td>251</td>\n    </tr>\n    <tr>\n      <th>Arbok</th>\n      <td>Poison</td>\n      <td>Cobra Pokémon</td>\n      <td>(11′06″)</td>\n      <td>65.0 kg (143.3 lbs)</td>\n      <td>1. Intimidate, 2. Shed Skin, Unnerve (hidden a...</td>\n      <td>2 Attack</td>\n      <td>90 (11.8% with PokéBall, full HP)</td>\n      <td>50 (normal)</td>\n      <td>157</td>\n      <td>Medium Fast</td>\n      <td>...</td>\n      <td>260</td>\n      <td>65</td>\n      <td>121</td>\n      <td>251</td>\n      <td>79</td>\n      <td>146</td>\n      <td>282</td>\n      <td>80</td>\n      <td>148</td>\n      <td>284</td>\n    </tr>\n    <tr>\n      <th>...</th>\n      <td>...</td>\n      <td>...</td>\n      <td>...</td>\n      <td>...</td>\n      <td>...</td>\n      <td>...</td>\n      <td>...</td>\n      <td>...</td>\n      <td>...</td>\n      <td>...</td>\n      <td>...</td>\n      <td>...</td>\n      <td>...</td>\n      <td>...</td>\n      <td>...</td>\n      <td>...</td>\n      <td>...</td>\n      <td>...</td>\n      <td>...</td>\n      <td>...</td>\n      <td>...</td>\n    </tr>\n    <tr>\n      <th>Weepinbell</th>\n      <td>Grass, Poison</td>\n      <td>Flycatcher Pokémon</td>\n      <td>(3′03″)</td>\n      <td>6.4 kg (14.1 lbs)</td>\n      <td>1. Chlorophyll, Gluttony (hidden ability)</td>\n      <td>2 Attack</td>\n      <td>120 (15.7% with PokéBall, full HP)</td>\n      <td>50 (normal)</td>\n      <td>137</td>\n      <td>Medium Slow</td>\n      <td>...</td>\n      <td>218</td>\n      <td>85</td>\n      <td>157</td>\n      <td>295</td>\n      <td>45</td>\n      <td>85</td>\n      <td>207</td>\n      <td>55</td>\n      <td>103</td>\n      <td>229</td>\n    </tr>\n    <tr>\n      <th>Weezing</th>\n      <td>Poison</td>\n      <td>Poison Gas Pokémon</td>\n      <td>(3′11″)</td>\n      <td>9.5 kg (20.9 lbs)</td>\n      <td>1. Levitate, 2. Neutralizing Gas, Stench (hidd...</td>\n      <td>2 Defense</td>\n      <td>60 (7.8% with PokéBall, full HP)</td>\n      <td>50 (normal)</td>\n      <td>172</td>\n      <td>Medium Fast</td>\n      <td>...</td>\n      <td>372</td>\n      <td>85</td>\n      <td>157</td>\n      <td>295</td>\n      <td>70</td>\n      <td>130</td>\n      <td>262</td>\n      <td>60</td>\n      <td>112</td>\n      <td>240</td>\n    </tr>\n    <tr>\n      <th>Wigglytuff</th>\n      <td>Normal, Fairy</td>\n      <td>Balloon Pokémon</td>\n      <td>(3′03″)</td>\n      <td>12.0 kg (26.5 lbs)</td>\n      <td>1. Cute Charm, 2. Competitive, Frisk (hidden a...</td>\n      <td>3 HP</td>\n      <td>50 (6.5% with PokéBall, full HP)</td>\n      <td>50 (normal)</td>\n      <td>218</td>\n      <td>Fast</td>\n      <td>...</td>\n      <td>207</td>\n      <td>85</td>\n      <td>157</td>\n      <td>295</td>\n      <td>50</td>\n      <td>94</td>\n      <td>218</td>\n      <td>45</td>\n      <td>85</td>\n      <td>207</td>\n    </tr>\n    <tr>\n      <th>Zapdos</th>\n      <td>Electric, Flying</td>\n      <td>Electric Pokémon</td>\n      <td>(5′03″)</td>\n      <td>52.6 kg (116.0 lbs)</td>\n      <td>1. Pressure, Static (hidden ability)</td>\n      <td>3 Sp. Atk</td>\n      <td>3 (0.4% with PokéBall, full HP)</td>\n      <td>35 (lower than normal)</td>\n      <td>290</td>\n      <td>Slow</td>\n      <td>...</td>\n      <td>295</td>\n      <td>125</td>\n      <td>229</td>\n      <td>383</td>\n      <td>90</td>\n      <td>166</td>\n      <td>306</td>\n      <td>100</td>\n      <td>184</td>\n      <td>328</td>\n    </tr>\n    <tr>\n      <th>Zubat</th>\n      <td>Poison, Flying</td>\n      <td>Bat Pokémon</td>\n      <td>(2′07″)</td>\n      <td>7.5 kg (16.5 lbs)</td>\n      <td>1. Inner Focus, Infiltrator (hidden ability)</td>\n      <td>1 Speed</td>\n      <td>255 (33.3% with PokéBall, full HP)</td>\n      <td>50 (normal)</td>\n      <td>49</td>\n      <td>Medium Fast</td>\n      <td>...</td>\n      <td>185</td>\n      <td>30</td>\n      <td>58</td>\n      <td>174</td>\n      <td>40</td>\n      <td>76</td>\n      <td>196</td>\n      <td>55</td>\n      <td>103</td>\n      <td>229</td>\n    </tr>\n  </tbody>\n</table>\n<p>148 rows × 31 columns</p>\n</div>"
     },
     "execution_count": 89,
     "metadata": {},
     "output_type": "execute_result"
    }
   ],
   "source": [
    "test"
   ],
   "metadata": {
    "collapsed": false,
    "ExecuteTime": {
     "end_time": "2024-04-08T10:32:13.173043Z",
     "start_time": "2024-04-08T10:32:13.151318Z"
    }
   },
   "id": "8c39b3af2b8f417a",
   "execution_count": 89
  },
  {
   "cell_type": "code",
   "outputs": [],
   "source": [
    "# Function to split names\n",
    "def split_names(Type):\n",
    "    names = Type.split()\n",
    "    if len(names) == 1:\n",
    "        return names[0], ''\n",
    "    else:\n",
    "        return names[0].replace(\",\",\" \"), ' '.join(names[1:])\n",
    "\n",
    "test[['Primary Type', 'Secondary']]= test['Type'].apply(split_names).apply(pd.Series)\n",
    "\n"
   ],
   "metadata": {
    "collapsed": false,
    "ExecuteTime": {
     "end_time": "2024-04-08T10:39:10.589534Z",
     "start_time": "2024-04-08T10:39:10.567724Z"
    }
   },
   "id": "6158edcc3bc5c96d",
   "execution_count": 105
  },
  {
   "cell_type": "code",
   "outputs": [
    {
     "data": {
      "text/plain": "                              Type             Species          Height  \\\nAbra                       Psychic         Psi Pokémon   0.9 m (2′11″)   \nAerodactyl            Rock, Flying      Fossil Pokémon   1.8 m (5′11″)   \nAlakazam                   Psychic         Psi Pokémon   1.5 m (4′11″)   \nAlolan Sandslash        Ice, Steel       Mouse Pokémon   1.2 m (3′11″)   \nArbok                       Poison       Cobra Pokémon  3.5 m (11′06″)   \n...                            ...                 ...             ...   \nWeepinbell           Grass, Poison  Flycatcher Pokémon   1.0 m (3′03″)   \nWeezing                     Poison  Poison Gas Pokémon   1.2 m (3′11″)   \nWigglytuff           Normal, Fairy     Balloon Pokémon   1.0 m (3′03″)   \nZapdos            Electric, Flying    Electric Pokémon   1.6 m (5′03″)   \nZubat               Poison, Flying         Bat Pokémon   0.8 m (2′07″)   \n\n                               Weight  \\\nAbra               19.5 kg (43.0 lbs)   \nAerodactyl        59.0 kg (130.1 lbs)   \nAlakazam          48.0 kg (105.8 lbs)   \nAlolan Sandslash  55.0 kg (121.3 lbs)   \nArbok             65.0 kg (143.3 lbs)   \n...                               ...   \nWeepinbell          6.4 kg (14.1 lbs)   \nWeezing             9.5 kg (20.9 lbs)   \nWigglytuff         12.0 kg (26.5 lbs)   \nZapdos            52.6 kg (116.0 lbs)   \nZubat               7.5 kg (16.5 lbs)   \n\n                                                          Abilities  \\\nAbra              1. Synchronize, 2. Inner Focus, Magic Guard (h...   \nAerodactyl        1. Rock Head, 2. Pressure, Unnerve (hidden abi...   \nAlakazam          1. Synchronize, 2. Inner Focus, Magic Guard (h...   \nAlolan Sandslash         1. Snow Cloak, Slush Rush (hidden ability)   \nArbok             1. Intimidate, 2. Shed Skin, Unnerve (hidden a...   \n...                                                             ...   \nWeepinbell                1. Chlorophyll, Gluttony (hidden ability)   \nWeezing           1. Levitate, 2. Neutralizing Gas, Stench (hidd...   \nWigglytuff        1. Cute Charm, 2. Competitive, Frisk (hidden a...   \nZapdos                         1. Pressure, Static (hidden ability)   \nZubat                  1. Inner Focus, Infiltrator (hidden ability)   \n\n                   EV Yield                          Catch Rate  \\\nAbra              1 Sp. Atk  200 (26.1% with PokéBall, full HP)   \nAerodactyl          2 Speed    45 (5.9% with PokéBall, full HP)   \nAlakazam          3 Sp. Atk    50 (6.5% with PokéBall, full HP)   \nAlolan Sandslash  2 Defense   90 (11.8% with PokéBall, full HP)   \nArbok              2 Attack   90 (11.8% with PokéBall, full HP)   \n...                     ...                                 ...   \nWeepinbell         2 Attack  120 (15.7% with PokéBall, full HP)   \nWeezing           2 Defense    60 (7.8% with PokéBall, full HP)   \nWigglytuff             3 HP    50 (6.5% with PokéBall, full HP)   \nZapdos            3 Sp. Atk     3 (0.4% with PokéBall, full HP)   \nZubat               1 Speed  255 (33.3% with PokéBall, full HP)   \n\n                         Base Friendship Base Exp  Growth Rate  ...  \\\nAbra                         50 (normal)       62  Medium Slow  ...   \nAerodactyl                   50 (normal)      180         Slow  ...   \nAlakazam                     50 (normal)      225  Medium Slow  ...   \nAlolan Sandslash             50 (normal)      158  Medium Fast  ...   \nArbok                        50 (normal)      157  Medium Fast  ...   \n...                                  ...      ...          ...  ...   \nWeepinbell                   50 (normal)      137  Medium Slow  ...   \nWeezing                      50 (normal)      172  Medium Fast  ...   \nWigglytuff                   50 (normal)      218         Fast  ...   \nZapdos            35 (lower than normal)      290         Slow  ...   \nZubat                        50 (normal)       49  Medium Fast  ...   \n\n                 Special Attack Min Special Attack Max Special Defense Base  \\\nAbra                            193                339                   55   \nAerodactyl                      112                240                   75   \nAlakazam                        247                405                   95   \nAlolan Sandslash                 49                163                   65   \nArbok                           121                251                   79   \n...                             ...                ...                  ...   \nWeepinbell                      157                295                   45   \nWeezing                         157                295                   70   \nWigglytuff                      157                295                   50   \nZapdos                          229                383                   90   \nZubat                            58                174                   40   \n\n                 Special Defense Min Special Defense Max Speed Base Speed Min  \\\nAbra                             103                 229         90       166   \nAerodactyl                       139                 273        130       238   \nAlakazam                         175                 317        120       220   \nAlolan Sandslash                 121                 251         65       121   \nArbok                            146                 282         80       148   \n...                              ...                 ...        ...       ...   \nWeepinbell                        85                 207         55       103   \nWeezing                          130                 262         60       112   \nWigglytuff                        94                 218         45        85   \nZapdos                           166                 306        100       184   \nZubat                             76                 196         55       103   \n\n                 Speed Max Primary Type Secondary  \nAbra                   306      Psychic            \nAerodactyl             394        Rock     Flying  \nAlakazam               372      Psychic            \nAlolan Sandslash       251         Ice      Steel  \nArbok                  284       Poison            \n...                    ...          ...       ...  \nWeepinbell             229       Grass     Poison  \nWeezing                240       Poison            \nWigglytuff             207      Normal      Fairy  \nZapdos                 328    Electric     Flying  \nZubat                  229      Poison     Flying  \n\n[148 rows x 33 columns]",
      "text/html": "<div>\n<style scoped>\n    .dataframe tbody tr th:only-of-type {\n        vertical-align: middle;\n    }\n\n    .dataframe tbody tr th {\n        vertical-align: top;\n    }\n\n    .dataframe thead th {\n        text-align: right;\n    }\n</style>\n<table border=\"1\" class=\"dataframe\">\n  <thead>\n    <tr style=\"text-align: right;\">\n      <th></th>\n      <th>Type</th>\n      <th>Species</th>\n      <th>Height</th>\n      <th>Weight</th>\n      <th>Abilities</th>\n      <th>EV Yield</th>\n      <th>Catch Rate</th>\n      <th>Base Friendship</th>\n      <th>Base Exp</th>\n      <th>Growth Rate</th>\n      <th>...</th>\n      <th>Special Attack Min</th>\n      <th>Special Attack Max</th>\n      <th>Special Defense Base</th>\n      <th>Special Defense Min</th>\n      <th>Special Defense Max</th>\n      <th>Speed Base</th>\n      <th>Speed Min</th>\n      <th>Speed Max</th>\n      <th>Primary Type</th>\n      <th>Secondary</th>\n    </tr>\n  </thead>\n  <tbody>\n    <tr>\n      <th>Abra</th>\n      <td>Psychic</td>\n      <td>Psi Pokémon</td>\n      <td>0.9 m (2′11″)</td>\n      <td>19.5 kg (43.0 lbs)</td>\n      <td>1. Synchronize, 2. Inner Focus, Magic Guard (h...</td>\n      <td>1 Sp. Atk</td>\n      <td>200 (26.1% with PokéBall, full HP)</td>\n      <td>50 (normal)</td>\n      <td>62</td>\n      <td>Medium Slow</td>\n      <td>...</td>\n      <td>193</td>\n      <td>339</td>\n      <td>55</td>\n      <td>103</td>\n      <td>229</td>\n      <td>90</td>\n      <td>166</td>\n      <td>306</td>\n      <td>Psychic</td>\n      <td></td>\n    </tr>\n    <tr>\n      <th>Aerodactyl</th>\n      <td>Rock, Flying</td>\n      <td>Fossil Pokémon</td>\n      <td>1.8 m (5′11″)</td>\n      <td>59.0 kg (130.1 lbs)</td>\n      <td>1. Rock Head, 2. Pressure, Unnerve (hidden abi...</td>\n      <td>2 Speed</td>\n      <td>45 (5.9% with PokéBall, full HP)</td>\n      <td>50 (normal)</td>\n      <td>180</td>\n      <td>Slow</td>\n      <td>...</td>\n      <td>112</td>\n      <td>240</td>\n      <td>75</td>\n      <td>139</td>\n      <td>273</td>\n      <td>130</td>\n      <td>238</td>\n      <td>394</td>\n      <td>Rock</td>\n      <td>Flying</td>\n    </tr>\n    <tr>\n      <th>Alakazam</th>\n      <td>Psychic</td>\n      <td>Psi Pokémon</td>\n      <td>1.5 m (4′11″)</td>\n      <td>48.0 kg (105.8 lbs)</td>\n      <td>1. Synchronize, 2. Inner Focus, Magic Guard (h...</td>\n      <td>3 Sp. Atk</td>\n      <td>50 (6.5% with PokéBall, full HP)</td>\n      <td>50 (normal)</td>\n      <td>225</td>\n      <td>Medium Slow</td>\n      <td>...</td>\n      <td>247</td>\n      <td>405</td>\n      <td>95</td>\n      <td>175</td>\n      <td>317</td>\n      <td>120</td>\n      <td>220</td>\n      <td>372</td>\n      <td>Psychic</td>\n      <td></td>\n    </tr>\n    <tr>\n      <th>Alolan Sandslash</th>\n      <td>Ice, Steel</td>\n      <td>Mouse Pokémon</td>\n      <td>1.2 m (3′11″)</td>\n      <td>55.0 kg (121.3 lbs)</td>\n      <td>1. Snow Cloak, Slush Rush (hidden ability)</td>\n      <td>2 Defense</td>\n      <td>90 (11.8% with PokéBall, full HP)</td>\n      <td>50 (normal)</td>\n      <td>158</td>\n      <td>Medium Fast</td>\n      <td>...</td>\n      <td>49</td>\n      <td>163</td>\n      <td>65</td>\n      <td>121</td>\n      <td>251</td>\n      <td>65</td>\n      <td>121</td>\n      <td>251</td>\n      <td>Ice</td>\n      <td>Steel</td>\n    </tr>\n    <tr>\n      <th>Arbok</th>\n      <td>Poison</td>\n      <td>Cobra Pokémon</td>\n      <td>3.5 m (11′06″)</td>\n      <td>65.0 kg (143.3 lbs)</td>\n      <td>1. Intimidate, 2. Shed Skin, Unnerve (hidden a...</td>\n      <td>2 Attack</td>\n      <td>90 (11.8% with PokéBall, full HP)</td>\n      <td>50 (normal)</td>\n      <td>157</td>\n      <td>Medium Fast</td>\n      <td>...</td>\n      <td>121</td>\n      <td>251</td>\n      <td>79</td>\n      <td>146</td>\n      <td>282</td>\n      <td>80</td>\n      <td>148</td>\n      <td>284</td>\n      <td>Poison</td>\n      <td></td>\n    </tr>\n    <tr>\n      <th>...</th>\n      <td>...</td>\n      <td>...</td>\n      <td>...</td>\n      <td>...</td>\n      <td>...</td>\n      <td>...</td>\n      <td>...</td>\n      <td>...</td>\n      <td>...</td>\n      <td>...</td>\n      <td>...</td>\n      <td>...</td>\n      <td>...</td>\n      <td>...</td>\n      <td>...</td>\n      <td>...</td>\n      <td>...</td>\n      <td>...</td>\n      <td>...</td>\n      <td>...</td>\n      <td>...</td>\n    </tr>\n    <tr>\n      <th>Weepinbell</th>\n      <td>Grass, Poison</td>\n      <td>Flycatcher Pokémon</td>\n      <td>1.0 m (3′03″)</td>\n      <td>6.4 kg (14.1 lbs)</td>\n      <td>1. Chlorophyll, Gluttony (hidden ability)</td>\n      <td>2 Attack</td>\n      <td>120 (15.7% with PokéBall, full HP)</td>\n      <td>50 (normal)</td>\n      <td>137</td>\n      <td>Medium Slow</td>\n      <td>...</td>\n      <td>157</td>\n      <td>295</td>\n      <td>45</td>\n      <td>85</td>\n      <td>207</td>\n      <td>55</td>\n      <td>103</td>\n      <td>229</td>\n      <td>Grass</td>\n      <td>Poison</td>\n    </tr>\n    <tr>\n      <th>Weezing</th>\n      <td>Poison</td>\n      <td>Poison Gas Pokémon</td>\n      <td>1.2 m (3′11″)</td>\n      <td>9.5 kg (20.9 lbs)</td>\n      <td>1. Levitate, 2. Neutralizing Gas, Stench (hidd...</td>\n      <td>2 Defense</td>\n      <td>60 (7.8% with PokéBall, full HP)</td>\n      <td>50 (normal)</td>\n      <td>172</td>\n      <td>Medium Fast</td>\n      <td>...</td>\n      <td>157</td>\n      <td>295</td>\n      <td>70</td>\n      <td>130</td>\n      <td>262</td>\n      <td>60</td>\n      <td>112</td>\n      <td>240</td>\n      <td>Poison</td>\n      <td></td>\n    </tr>\n    <tr>\n      <th>Wigglytuff</th>\n      <td>Normal, Fairy</td>\n      <td>Balloon Pokémon</td>\n      <td>1.0 m (3′03″)</td>\n      <td>12.0 kg (26.5 lbs)</td>\n      <td>1. Cute Charm, 2. Competitive, Frisk (hidden a...</td>\n      <td>3 HP</td>\n      <td>50 (6.5% with PokéBall, full HP)</td>\n      <td>50 (normal)</td>\n      <td>218</td>\n      <td>Fast</td>\n      <td>...</td>\n      <td>157</td>\n      <td>295</td>\n      <td>50</td>\n      <td>94</td>\n      <td>218</td>\n      <td>45</td>\n      <td>85</td>\n      <td>207</td>\n      <td>Normal</td>\n      <td>Fairy</td>\n    </tr>\n    <tr>\n      <th>Zapdos</th>\n      <td>Electric, Flying</td>\n      <td>Electric Pokémon</td>\n      <td>1.6 m (5′03″)</td>\n      <td>52.6 kg (116.0 lbs)</td>\n      <td>1. Pressure, Static (hidden ability)</td>\n      <td>3 Sp. Atk</td>\n      <td>3 (0.4% with PokéBall, full HP)</td>\n      <td>35 (lower than normal)</td>\n      <td>290</td>\n      <td>Slow</td>\n      <td>...</td>\n      <td>229</td>\n      <td>383</td>\n      <td>90</td>\n      <td>166</td>\n      <td>306</td>\n      <td>100</td>\n      <td>184</td>\n      <td>328</td>\n      <td>Electric</td>\n      <td>Flying</td>\n    </tr>\n    <tr>\n      <th>Zubat</th>\n      <td>Poison, Flying</td>\n      <td>Bat Pokémon</td>\n      <td>0.8 m (2′07″)</td>\n      <td>7.5 kg (16.5 lbs)</td>\n      <td>1. Inner Focus, Infiltrator (hidden ability)</td>\n      <td>1 Speed</td>\n      <td>255 (33.3% with PokéBall, full HP)</td>\n      <td>50 (normal)</td>\n      <td>49</td>\n      <td>Medium Fast</td>\n      <td>...</td>\n      <td>58</td>\n      <td>174</td>\n      <td>40</td>\n      <td>76</td>\n      <td>196</td>\n      <td>55</td>\n      <td>103</td>\n      <td>229</td>\n      <td>Poison</td>\n      <td>Flying</td>\n    </tr>\n  </tbody>\n</table>\n<p>148 rows × 33 columns</p>\n</div>"
     },
     "execution_count": 106,
     "metadata": {},
     "output_type": "execute_result"
    }
   ],
   "source": [
    "test"
   ],
   "metadata": {
    "collapsed": false,
    "ExecuteTime": {
     "end_time": "2024-04-08T10:39:11.212458Z",
     "start_time": "2024-04-08T10:39:11.190330Z"
    }
   },
   "id": "b9c2a0b15f485a31",
   "execution_count": 106
  }
 ],
 "metadata": {
  "kernelspec": {
   "display_name": "Python 3",
   "language": "python",
   "name": "python3"
  },
  "language_info": {
   "codemirror_mode": {
    "name": "ipython",
    "version": 2
   },
   "file_extension": ".py",
   "mimetype": "text/x-python",
   "name": "python",
   "nbconvert_exporter": "python",
   "pygments_lexer": "ipython2",
   "version": "2.7.6"
  }
 },
 "nbformat": 4,
 "nbformat_minor": 5
}
